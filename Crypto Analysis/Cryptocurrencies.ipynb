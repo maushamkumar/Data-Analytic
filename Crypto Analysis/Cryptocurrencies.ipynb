{
 "cells": [
  {
   "cell_type": "code",
   "execution_count": 1,
   "metadata": {},
   "outputs": [],
   "source": [
    "import pandas as pd "
   ]
  },
  {
   "cell_type": "code",
   "execution_count": 2,
   "metadata": {},
   "outputs": [],
   "source": [
    "import requests\n",
    "import pandas as pd\n",
    "\n",
    "from openpyxl import Workbook\n",
    "from openpyxl.styles import Font, Alignment\n",
    "from openpyxl.utils.dataframe import dataframe_to_rows\n",
    "import threading\n",
    "\n",
    "class CryptocurrencyTracker:\n",
    "    def __init__(self, update_interval=300):  # Default update every 5 minutes\n",
    "        self.update_interval = update_interval\n",
    "        self.excel_file = 'cryptocurrency_tracker.xlsx'\n",
    "        self.stop_tracking = False\n",
    "\n",
    "    def fetch_cryptocurrency_data(self):\n",
    "        \"\"\"\n",
    "        Fetch top 50 cryptocurrencies data from CoinGecko API\n",
    "        \"\"\"\n",
    "        try:\n",
    "            # Use CoinGecko's API directly\n",
    "            url = \"\tCG-RJmRFjREnmXkhWj7RdbXwpiH\"\n",
    "            params = {\n",
    "                'vs_currency': 'usd',\n",
    "                'order': 'market_cap_desc',\n",
    "                'per_page': 50,\n",
    "                'page': 1,\n",
    "                'sparkline': 'false',\n",
    "                'price_change_percentage': '24h'\n",
    "            }\n",
    "            \n",
    "            response = requests.get(url, params=params)\n",
    "            data = response.json()\n",
    "            \n",
    "            # Process and extract required columns\n",
    "            processed_data = []\n",
    "            for coin in data:\n",
    "                processed_data.append({\n",
    "                    'Cryptocurrency Name': coin['name'],\n",
    "                    'Symbol': coin['symbol'].upper(),\n",
    "                    'Current Price (USD)': f\"${coin['current_price']:,.2f}\",\n",
    "                    'Market Capitalization': f\"${coin['market_cap']:,.0f}\",\n",
    "                    '24-hour Trading Volume': f\"${coin['total_volume']:,.0f}\",\n",
    "                    'Price Change (24hr %)': f\"{coin['price_change_percentage_24h_in_currency']:.2f}%\"\n",
    "                })\n",
    "            \n",
    "            return pd.DataFrame(processed_data)\n",
    "        \n",
    "        except Exception as e:\n",
    "            print(f\"Error fetching cryptocurrency data: {e}\")\n",
    "            return pd.DataFrame()"
   ]
  },
  {
   "cell_type": "code",
   "execution_count": 3,
   "metadata": {},
   "outputs": [
    {
     "name": "stdout",
     "output_type": "stream",
     "text": [
      "[{'id': 'bitcoin', 'symbol': 'btc', 'name': 'Bitcoin', 'image': 'https://coin-images.coingecko.com/coins/images/1/large/bitcoin.png?1696501400', 'current_price': 96852, 'market_cap': 1916079299375, 'market_cap_rank': 1, 'fully_diluted_valuation': 2033712318890, 'total_volume': 93628874793, 'high_24h': 97837, 'low_24h': 92955, 'price_change_24h': 3527.93, 'price_change_percentage_24h': 3.7803, 'market_cap_change_24h': 71115520186, 'market_cap_change_percentage_24h': 3.85458, 'circulating_supply': 19785328.0, 'total_supply': 21000000.0, 'max_supply': 21000000.0, 'ath': 97837, 'ath_change_percentage': -1.02704, 'ath_date': '2024-11-21T05:35:54.475Z', 'atl': 67.81, 'atl_change_percentage': 142700.79109, 'atl_date': '2013-07-06T00:00:00.000Z', 'roi': None, 'last_updated': '2024-11-21T08:45:38.044Z'}, {'id': 'ethereum', 'symbol': 'eth', 'name': 'Ethereum', 'image': 'https://coin-images.coingecko.com/coins/images/279/large/ethereum.png?1696501628', 'current_price': 3141.51, 'market_cap': 378246624831, 'market_cap_rank': 2, 'fully_diluted_valuation': 378246624831, 'total_volume': 37766137764, 'high_24h': 3150.17, 'low_24h': 3034.84, 'price_change_24h': 15.49, 'price_change_percentage_24h': 0.49559, 'market_cap_change_24h': 1823545390, 'market_cap_change_percentage_24h': 0.48444, 'circulating_supply': 120427540.493544, 'total_supply': 120427540.493544, 'max_supply': None, 'ath': 4878.26, 'ath_change_percentage': -35.6515, 'ath_date': '2021-11-10T14:24:19.604Z', 'atl': 0.432979, 'atl_change_percentage': 724897.83196, 'atl_date': '2015-10-20T00:00:00.000Z', 'roi': {'times': 42.36996011094378, 'currency': 'btc', 'percentage': 4236.9960110943775}, 'last_updated': '2024-11-21T08:45:42.249Z'}, {'id': 'tether', 'symbol': 'usdt', 'name': 'Tether', 'image': 'https://coin-images.coingecko.com/coins/images/325/large/Tether.png?1696501661', 'current_price': 1.0, 'market_cap': 130200112307, 'market_cap_rank': 3, 'fully_diluted_valuation': 130200112307, 'total_volume': 96072812831, 'high_24h': 1.005, 'low_24h': 0.997569, 'price_change_24h': -0.001274735468412835, 'price_change_percentage_24h': -0.12725, 'market_cap_change_24h': 1285856852, 'market_cap_change_percentage_24h': 0.99745, 'circulating_supply': 130151051348.034, 'total_supply': 130151051348.034, 'max_supply': None, 'ath': 1.32, 'ath_change_percentage': -24.42604, 'ath_date': '2018-07-24T00:00:00.000Z', 'atl': 0.572521, 'atl_change_percentage': 74.65133, 'atl_date': '2015-03-02T00:00:00.000Z', 'roi': None, 'last_updated': '2024-11-21T08:45:39.007Z'}, {'id': 'solana', 'symbol': 'sol', 'name': 'Solana', 'image': 'https://coin-images.coingecko.com/coins/images/4128/large/solana.png?1718769756', 'current_price': 242.32, 'market_cap': 114981813561, 'market_cap_rank': 4, 'fully_diluted_valuation': 142613893608, 'total_volume': 9770693557, 'high_24h': 242.19, 'low_24h': 230.7, 'price_change_24h': 3.59, 'price_change_percentage_24h': 1.50568, 'market_cap_change_24h': 1691766349, 'market_cap_change_percentage_24h': 1.49331, 'circulating_supply': 474601282.710433, 'total_supply': 588656020.833677, 'max_supply': None, 'ath': 259.96, 'ath_change_percentage': -6.88786, 'ath_date': '2021-11-06T21:54:35.825Z', 'atl': 0.500801, 'atl_change_percentage': 48233.27328, 'atl_date': '2020-05-11T19:35:23.449Z', 'roi': None, 'last_updated': '2024-11-21T08:45:35.623Z'}, {'id': 'binancecoin', 'symbol': 'bnb', 'name': 'BNB', 'image': 'https://coin-images.coingecko.com/coins/images/825/large/bnb-icon2_2x.png?1696501970', 'current_price': 612.44, 'market_cap': 89333965224, 'market_cap_rank': 5, 'fully_diluted_valuation': 89333965224, 'total_volume': 1861771804, 'high_24h': 619.24, 'low_24h': 594.77, 'price_change_24h': -2.7952597176690688, 'price_change_percentage_24h': -0.45434, 'market_cap_change_24h': -375853314.837265, 'market_cap_change_percentage_24h': -0.41897, 'circulating_supply': 145887575.79, 'total_supply': 145887575.79, 'max_supply': 200000000.0, 'ath': 717.48, 'ath_change_percentage': -14.71318, 'ath_date': '2024-06-06T14:10:59.816Z', 'atl': 0.0398177, 'atl_change_percentage': 1536683.80917, 'atl_date': '2017-10-19T00:00:00.000Z', 'roi': None, 'last_updated': '2024-11-21T08:45:37.716Z'}, {'id': 'ripple', 'symbol': 'xrp', 'name': 'XRP', 'image': 'https://coin-images.coingecko.com/coins/images/44/large/xrp-symbol-white-128.png?1696501442', 'current_price': 1.12, 'market_cap': 63789302916, 'market_cap_rank': 6, 'fully_diluted_valuation': 112031665548, 'total_volume': 7795166445, 'high_24h': 1.14, 'low_24h': 1.071, 'price_change_24h': 0.02007281, 'price_change_percentage_24h': 1.82474, 'market_cap_change_24h': 1334339575, 'market_cap_change_percentage_24h': 2.13648, 'circulating_supply': 56931242174.0, 'total_supply': 99987013354.0, 'max_supply': 100000000000.0, 'ath': 3.4, 'ath_change_percentage': -66.97989, 'ath_date': '2018-01-07T00:00:00.000Z', 'atl': 0.00268621, 'atl_change_percentage': 41675.3428, 'atl_date': '2014-05-22T00:00:00.000Z', 'roi': None, 'last_updated': '2024-11-21T08:45:36.320Z'}, {'id': 'dogecoin', 'symbol': 'doge', 'name': 'Dogecoin', 'image': 'https://coin-images.coingecko.com/coins/images/5/large/dogecoin.png?1696501409', 'current_price': 0.385292, 'market_cap': 56561404933, 'market_cap_rank': 7, 'fully_diluted_valuation': 56569389037, 'total_volume': 10333462663, 'high_24h': 0.395163, 'low_24h': 0.367859, 'price_change_24h': -0.00935044808809754, 'price_change_percentage_24h': -2.36935, 'market_cap_change_24h': -1368121319.3554535, 'market_cap_change_percentage_24h': -2.3617, 'circulating_supply': 146856556383.705, 'total_supply': 146877286383.705, 'max_supply': None, 'ath': 0.731578, 'ath_change_percentage': -47.39165, 'ath_date': '2021-05-08T05:08:23.458Z', 'atl': 8.69e-05, 'atl_change_percentage': 442770.59331, 'atl_date': '2015-05-06T00:00:00.000Z', 'roi': None, 'last_updated': '2024-11-21T08:45:39.275Z'}, {'id': 'usd-coin', 'symbol': 'usdc', 'name': 'USDC', 'image': 'https://coin-images.coingecko.com/coins/images/6319/large/usdc.png?1696506694', 'current_price': 0.999907, 'market_cap': 37849669499, 'market_cap_rank': 8, 'fully_diluted_valuation': 37883200722, 'total_volume': 9855645565, 'high_24h': 1.003, 'low_24h': 0.996065, 'price_change_24h': -0.000446447142414597, 'price_change_percentage_24h': -0.04463, 'market_cap_change_24h': 364102777, 'market_cap_change_percentage_24h': 0.97131, 'circulating_supply': 37863120628.4432, 'total_supply': 37896663767.8492, 'max_supply': None, 'ath': 1.17, 'ath_change_percentage': -14.76284, 'ath_date': '2019-05-08T00:40:28.300Z', 'atl': 0.877647, 'atl_change_percentage': 13.89338, 'atl_date': '2023-03-11T08:02:13.981Z', 'roi': None, 'last_updated': '2024-11-21T08:45:40.296Z'}, {'id': 'staked-ether', 'symbol': 'steth', 'name': 'Lido Staked Ether', 'image': 'https://coin-images.coingecko.com/coins/images/13442/large/steth_logo.png?1696513206', 'current_price': 3142.19, 'market_cap': 30764865725, 'market_cap_rank': 9, 'fully_diluted_valuation': 30764865725, 'total_volume': 126766485, 'high_24h': 3146.55, 'low_24h': 3036.34, 'price_change_24h': 15.69, 'price_change_percentage_24h': 0.50199, 'market_cap_change_24h': 120889182, 'market_cap_change_percentage_24h': 0.3945, 'circulating_supply': 9788343.38124864, 'total_supply': 9788343.38124864, 'max_supply': None, 'ath': 4829.57, 'ath_change_percentage': -34.97426, 'ath_date': '2021-11-10T14:40:47.256Z', 'atl': 482.9, 'atl_change_percentage': 550.33933, 'atl_date': '2020-12-22T04:08:21.854Z', 'roi': None, 'last_updated': '2024-11-21T08:45:35.712Z'}, {'id': 'cardano', 'symbol': 'ada', 'name': 'Cardano', 'image': 'https://coin-images.coingecko.com/coins/images/975/large/cardano.png?1696502090', 'current_price': 0.782777, 'market_cap': 28003478478, 'market_cap_rank': 10, 'fully_diluted_valuation': 35216796658, 'total_volume': 3682173043, 'high_24h': 0.845319, 'low_24h': 0.771399, 'price_change_24h': -0.03105446201974338, 'price_change_percentage_24h': -3.81583, 'market_cap_change_24h': -912682011.463398, 'market_cap_change_percentage_24h': -3.1563, 'circulating_supply': 35782826692.8246, 'total_supply': 45000000000.0, 'max_supply': 45000000000.0, 'ath': 3.09, 'ath_change_percentage': -74.66211, 'ath_date': '2021-09-02T06:00:10.474Z', 'atl': 0.01925275, 'atl_change_percentage': 3962.57958, 'atl_date': '2020-03-13T02:22:55.044Z', 'roi': None, 'last_updated': '2024-11-21T08:45:38.921Z'}, {'id': 'tron', 'symbol': 'trx', 'name': 'TRON', 'image': 'https://coin-images.coingecko.com/coins/images/1094/large/tron-logo.png?1696502193', 'current_price': 0.198896, 'market_cap': 17099691456, 'market_cap_rank': 11, 'fully_diluted_valuation': 17099809999, 'total_volume': 1003089176, 'high_24h': 0.199603, 'low_24h': 0.193598, 'price_change_24h': 0.00048709, 'price_change_percentage_24h': 0.2455, 'market_cap_change_24h': -3747633.633354187, 'market_cap_change_percentage_24h': -0.02191, 'circulating_supply': 86357867813.5112, 'total_supply': 86358466487.044, 'max_supply': None, 'ath': 0.231673, 'ath_change_percentage': -14.22605, 'ath_date': '2018-01-05T00:00:00.000Z', 'atl': 0.00180434, 'atl_change_percentage': 10913.1516, 'atl_date': '2017-11-12T00:00:00.000Z', 'roi': {'times': 103.68226831397111, 'currency': 'usd', 'percentage': 10368.22683139711}, 'last_updated': '2024-11-21T08:45:38.941Z'}, {'id': 'the-open-network', 'symbol': 'ton', 'name': 'Toncoin', 'image': 'https://coin-images.coingecko.com/coins/images/17980/large/photo_2024-09-10_17.09.00.jpeg?1725963446', 'current_price': 5.58, 'market_cap': 14197973058, 'market_cap_rank': 13, 'fully_diluted_valuation': 28523966668, 'total_volume': 545391628, 'high_24h': 5.55, 'low_24h': 5.22, 'price_change_24h': 0.110355, 'price_change_percentage_24h': 2.01923, 'market_cap_change_24h': 290553908, 'market_cap_change_percentage_24h': 2.0892, 'circulating_supply': 2546372838.83748, 'total_supply': 5115705860.64093, 'max_supply': None, 'ath': 8.25, 'ath_change_percentage': -32.51082, 'ath_date': '2024-06-15T00:36:51.509Z', 'atl': 0.519364, 'atl_change_percentage': 972.52209, 'atl_date': '2021-09-21T00:33:11.092Z', 'roi': None, 'last_updated': '2024-11-21T08:45:42.413Z'}, {'id': 'shiba-inu', 'symbol': 'shib', 'name': 'Shiba Inu', 'image': 'https://coin-images.coingecko.com/coins/images/11939/large/shiba.png?1696511800', 'current_price': 2.409e-05, 'market_cap': 14196790474, 'market_cap_rank': 12, 'fully_diluted_valuation': 14202861000, 'total_volume': 1336532787, 'high_24h': 2.479e-05, 'low_24h': 2.318e-05, 'price_change_24h': -5.43005425467e-07, 'price_change_percentage_24h': -2.20394, 'market_cap_change_24h': -309410801.72776985, 'market_cap_change_percentage_24h': -2.13296, 'circulating_supply': 589260484091966.6, 'total_supply': 589512450975397.0, 'max_supply': None, 'ath': 8.616e-05, 'ath_change_percentage': -72.06017, 'ath_date': '2021-10-28T03:54:55.568Z', 'atl': 5.6366e-11, 'atl_change_percentage': 42707304.08342, 'atl_date': '2020-11-28T11:26:25.838Z', 'roi': None, 'last_updated': '2024-11-21T08:45:36.316Z'}, {'id': 'wrapped-bitcoin', 'symbol': 'wbtc', 'name': 'Wrapped Bitcoin', 'image': 'https://coin-images.coingecko.com/coins/images/7598/large/wrapped_bitcoin_wbtc.png?1696507857', 'current_price': 96541, 'market_cap': 14110553121, 'market_cap_rank': 14, 'fully_diluted_valuation': 14110553121, 'total_volume': 680405058, 'high_24h': 97431, 'low_24h': 92626, 'price_change_24h': 3542.9, 'price_change_percentage_24h': 3.80963, 'market_cap_change_24h': 531792432, 'market_cap_change_percentage_24h': 3.91635, 'circulating_supply': 146172.42599595, 'total_supply': 146172.42599595, 'max_supply': 146172.42599595, 'ath': 97431, 'ath_change_percentage': -0.94278, 'ath_date': '2024-11-21T05:36:37.590Z', 'atl': 3139.17, 'atl_change_percentage': 2974.45657, 'atl_date': '2019-04-02T00:00:00.000Z', 'roi': None, 'last_updated': '2024-11-21T08:45:40.304Z'}, {'id': 'avalanche-2', 'symbol': 'avax', 'name': 'Avalanche', 'image': 'https://coin-images.coingecko.com/coins/images/12559/large/Avalanche_Circle_RedWhite_Trans.png?1696512369', 'current_price': 34.24, 'market_cap': 14008321809, 'market_cap_rank': 15, 'fully_diluted_valuation': 15320261947, 'total_volume': 890884205, 'high_24h': 35.62, 'low_24h': 32.54, 'price_change_24h': -0.4841342902896315, 'price_change_percentage_24h': -1.3941, 'market_cap_change_24h': -124182881.91875076, 'market_cap_change_percentage_24h': -0.8787, 'circulating_supply': 409094876.806054, 'total_supply': 447408387.62371, 'max_supply': 720000000.0, 'ath': 144.96, 'ath_change_percentage': -76.40293, 'ath_date': '2021-11-21T14:18:56.538Z', 'atl': 2.8, 'atl_change_percentage': 1121.20015, 'atl_date': '2020-12-31T13:15:21.540Z', 'roi': None, 'last_updated': '2024-11-21T08:45:40.609Z'}, {'id': 'wrapped-steth', 'symbol': 'wsteth', 'name': 'Wrapped stETH', 'image': 'https://coin-images.coingecko.com/coins/images/18834/large/wstETH.png?1696518295', 'current_price': 3715.13, 'market_cap': 13466317349, 'market_cap_rank': 16, 'fully_diluted_valuation': 13466317349, 'total_volume': 76897241, 'high_24h': 3734.54, 'low_24h': 3601.27, 'price_change_24h': 22.94, 'price_change_percentage_24h': 0.62123, 'market_cap_change_24h': 97710663, 'market_cap_change_percentage_24h': 0.7309, 'circulating_supply': 3624788.58921951, 'total_supply': 3624788.58921951, 'max_supply': None, 'ath': 7256.02, 'ath_change_percentage': -48.8215, 'ath_date': '2022-05-13T15:09:54.509Z', 'atl': 558.54, 'atl_change_percentage': 564.86235, 'atl_date': '2022-05-13T01:36:45.053Z', 'roi': None, 'last_updated': '2024-11-21T08:45:40.449Z'}, {'id': 'bitcoin-cash', 'symbol': 'bch', 'name': 'Bitcoin Cash', 'image': 'https://coin-images.coingecko.com/coins/images/780/large/bitcoin-cash-circle.png?1696501932', 'current_price': 517.5, 'market_cap': 10233391979, 'market_cap_rank': 17, 'fully_diluted_valuation': 10858404716, 'total_volume': 1615395360, 'high_24h': 532.0, 'low_24h': 430.52, 'price_change_24h': 74.18, 'price_change_percentage_24h': 16.7328, 'market_cap_change_24h': 1475449970, 'market_cap_change_percentage_24h': 16.84699, 'circulating_supply': 19791234.2716508, 'total_supply': 21000000.0, 'max_supply': 21000000.0, 'ath': 3785.82, 'ath_change_percentage': -86.35844, 'ath_date': '2017-12-20T00:00:00.000Z', 'atl': 76.93, 'atl_change_percentage': 571.27631, 'atl_date': '2018-12-16T00:00:00.000Z', 'roi': None, 'last_updated': '2024-11-21T08:45:42.371Z'}, {'id': 'sui', 'symbol': 'sui', 'name': 'Sui', 'image': 'https://coin-images.coingecko.com/coins/images/26375/large/sui-ocean-square.png?1727791290', 'current_price': 3.55, 'market_cap': 10106689533, 'market_cap_rank': 18, 'fully_diluted_valuation': 35515020864, 'total_volume': 1871362992, 'high_24h': 3.8, 'low_24h': 3.45, 'price_change_24h': -0.24209368082939609, 'price_change_percentage_24h': -6.37625, 'market_cap_change_24h': -701305962.5105381, 'market_cap_change_percentage_24h': -6.48877, 'circulating_supply': 2845750695.58389, 'total_supply': 10000000000.0, 'max_supply': 10000000000.0, 'ath': 3.92, 'ath_change_percentage': -9.36811, 'ath_date': '2024-11-17T18:01:56.146Z', 'atl': 0.364846, 'atl_change_percentage': 874.02216, 'atl_date': '2023-10-19T10:40:30.078Z', 'roi': None, 'last_updated': '2024-11-21T08:45:36.404Z'}, {'id': 'chainlink', 'symbol': 'link', 'name': 'Chainlink', 'image': 'https://coin-images.coingecko.com/coins/images/877/large/chainlink-new-logo.png?1696502009', 'current_price': 14.65, 'market_cap': 9182205033, 'market_cap_rank': 19, 'fully_diluted_valuation': 14648170142, 'total_volume': 1099526959, 'high_24h': 15.19, 'low_24h': 13.91, 'price_change_24h': -7.7399525107325e-05, 'price_change_percentage_24h': -0.00053, 'market_cap_change_24h': 29900343, 'market_cap_change_percentage_24h': 0.3267, 'circulating_supply': 626849971.3083414, 'total_supply': 1000000000.0, 'max_supply': 1000000000.0, 'ath': 52.7, 'ath_change_percentage': -72.23388, 'ath_date': '2021-05-10T00:13:57.214Z', 'atl': 0.148183, 'atl_change_percentage': 9774.12978, 'atl_date': '2017-11-29T00:00:00.000Z', 'roi': None, 'last_updated': '2024-11-21T08:45:37.538Z'}, {'id': 'weth', 'symbol': 'weth', 'name': 'WETH', 'image': 'https://coin-images.coingecko.com/coins/images/2518/large/weth.png?1696503332', 'current_price': 3142.48, 'market_cap': 9170824655, 'market_cap_rank': 20, 'fully_diluted_valuation': 9170824655, 'total_volume': 771887177, 'high_24h': 3153.63, 'low_24h': 3033.99, 'price_change_24h': 14.0, 'price_change_percentage_24h': 0.44764, 'market_cap_change_24h': 11287285, 'market_cap_change_percentage_24h': 0.12323, 'circulating_supply': 2921634.42206612, 'total_supply': 2921634.42206612, 'max_supply': None, 'ath': 4799.89, 'ath_change_percentage': -34.60125, 'ath_date': '2021-11-09T00:00:00.000Z', 'atl': 82.1, 'atl_change_percentage': 3723.31251, 'atl_date': '2018-12-15T00:00:00.000Z', 'roi': None, 'last_updated': '2024-11-21T08:45:42.795Z'}, {'id': 'polkadot', 'symbol': 'dot', 'name': 'Polkadot', 'image': 'https://coin-images.coingecko.com/coins/images/12171/large/polkadot.png?1696512008', 'current_price': 5.71, 'market_cap': 8221901487, 'market_cap_rank': 21, 'fully_diluted_valuation': 8684104592, 'total_volume': 752132422, 'high_24h': 6.07, 'low_24h': 5.51, 'price_change_24h': -0.23151403860940345, 'price_change_percentage_24h': -3.89698, 'market_cap_change_24h': -320961905.5371399, 'market_cap_change_percentage_24h': -3.75708, 'circulating_supply': 1439796306.11008, 'total_supply': 1520736016.26469, 'max_supply': None, 'ath': 54.98, 'ath_change_percentage': -89.61433, 'ath_date': '2021-11-04T14:10:09.301Z', 'atl': 2.7, 'atl_change_percentage': 111.68593, 'atl_date': '2020-08-20T05:48:11.359Z', 'roi': None, 'last_updated': '2024-11-21T08:45:35.097Z'}, {'id': 'pepe', 'symbol': 'pepe', 'name': 'Pepe', 'image': 'https://coin-images.coingecko.com/coins/images/29850/large/pepe-token.jpeg?1696528776', 'current_price': 1.939e-05, 'market_cap': 8163460563, 'market_cap_rank': 22, 'fully_diluted_valuation': 8163460563, 'total_volume': 5070195515, 'high_24h': 2.052e-05, 'low_24h': 1.826e-05, 'price_change_24h': -1.128219001688e-06, 'price_change_percentage_24h': -5.498, 'market_cap_change_24h': -431190166.18966484, 'market_cap_change_percentage_24h': -5.01696, 'circulating_supply': 420690000000000.0, 'total_supply': 420690000000000.0, 'max_supply': 420690000000000.0, 'ath': 2.457e-05, 'ath_change_percentage': -21.06246, 'ath_date': '2024-11-14T02:05:35.500Z', 'atl': 5.5142e-08, 'atl_change_percentage': 35066.23591, 'atl_date': '2023-04-18T02:14:41.591Z', 'roi': None, 'last_updated': '2024-11-21T08:45:37.243Z'}, {'id': 'leo-token', 'symbol': 'leo', 'name': 'LEO Token', 'image': 'https://coin-images.coingecko.com/coins/images/8418/large/leo-token.png?1696508607', 'current_price': 8.48, 'market_cap': 7842039909, 'market_cap_rank': 23, 'fully_diluted_valuation': 8354492442, 'total_volume': 3233782, 'high_24h': 8.56, 'low_24h': 8.18, 'price_change_24h': 0.067402, 'price_change_percentage_24h': 0.80116, 'market_cap_change_24h': 47508026, 'market_cap_change_percentage_24h': 0.6095, 'circulating_supply': 924806331.9, 'total_supply': 985239504.0, 'max_supply': None, 'ath': 8.56, 'ath_change_percentage': -0.95738, 'ath_date': '2024-11-21T05:11:20.848Z', 'atl': 0.799859, 'atl_change_percentage': 960.04459, 'atl_date': '2019-12-24T15:14:35.376Z', 'roi': None, 'last_updated': '2024-11-21T08:45:42.765Z'}, {'id': 'stellar', 'symbol': 'xlm', 'name': 'Stellar', 'image': 'https://coin-images.coingecko.com/coins/images/100/large/Stellar_symbol_black_RGB.png?1696501482', 'current_price': 0.239556, 'market_cap': 7183994068, 'market_cap_rank': 24, 'fully_diluted_valuation': 11984481102, 'total_volume': 1756458504, 'high_24h': 0.265618, 'low_24h': 0.232047, 'price_change_24h': 0.00545138, 'price_change_percentage_24h': 2.32861, 'market_cap_change_24h': 170973585, 'market_cap_change_percentage_24h': 2.43795, 'circulating_supply': 29973140889.7393, 'total_supply': 50001786911.163, 'max_supply': 50001786911.163, 'ath': 0.875563, 'ath_change_percentage': -72.58015, 'ath_date': '2018-01-03T00:00:00.000Z', 'atl': 0.00047612, 'atl_change_percentage': 50323.49164, 'atl_date': '2015-03-05T00:00:00.000Z', 'roi': None, 'last_updated': '2024-11-21T08:45:42.056Z'}, {'id': 'litecoin', 'symbol': 'ltc', 'name': 'Litecoin', 'image': 'https://coin-images.coingecko.com/coins/images/2/large/litecoin.png?1696501400', 'current_price': 90.17, 'market_cap': 6782986022, 'market_cap_rank': 25, 'fully_diluted_valuation': 7574723692, 'total_volume': 1247835812, 'high_24h': 90.5, 'low_24h': 82.13, 'price_change_24h': 4.0, 'price_change_percentage_24h': 4.63625, 'market_cap_change_24h': 314444573, 'market_cap_change_percentage_24h': 4.86114, 'circulating_supply': 75220014.4834713, 'total_supply': 84000000.0, 'max_supply': 84000000.0, 'ath': 410.26, 'ath_change_percentage': -78.01665, 'ath_date': '2021-05-10T03:13:07.904Z', 'atl': 1.15, 'atl_change_percentage': 7750.41305, 'atl_date': '2015-01-14T00:00:00.000Z', 'roi': None, 'last_updated': '2024-11-21T08:45:42.771Z'}, {'id': 'near', 'symbol': 'near', 'name': 'NEAR Protocol', 'image': 'https://coin-images.coingecko.com/coins/images/10365/large/near.jpg?1696510367', 'current_price': 5.51, 'market_cap': 6706682502, 'market_cap_rank': 26, 'fully_diluted_valuation': 6725241779, 'total_volume': 705007300, 'high_24h': 5.83, 'low_24h': 5.33, 'price_change_24h': -0.18127709348884302, 'price_change_percentage_24h': -3.18511, 'market_cap_change_24h': -217492062.16100025, 'market_cap_change_percentage_24h': -3.14105, 'circulating_supply': 1217906155.0, 'total_supply': 1221276444.0, 'max_supply': None, 'ath': 20.44, 'ath_change_percentage': -73.08411, 'ath_date': '2022-01-16T22:09:45.873Z', 'atl': 0.526762, 'atl_change_percentage': 944.32319, 'atl_date': '2020-11-04T16:09:15.137Z', 'roi': None, 'last_updated': '2024-11-21T08:45:43.453Z'}, {'id': 'aptos', 'symbol': 'apt', 'name': 'Aptos', 'image': 'https://coin-images.coingecko.com/coins/images/26455/large/aptos_round.png?1696525528', 'current_price': 11.69, 'market_cap': 6217831929, 'market_cap_rank': 27, 'fully_diluted_valuation': 13147662767, 'total_volume': 1303768617, 'high_24h': 13.27, 'low_24h': 11.32, 'price_change_24h': -0.6808179616226173, 'price_change_percentage_24h': -5.50481, 'market_cap_change_24h': -282073058.29199314, 'market_cap_change_percentage_24h': -4.33965, 'circulating_supply': 532989519.235176, 'total_supply': 1127011237.60807, 'max_supply': None, 'ath': 19.92, 'ath_change_percentage': -41.43706, 'ath_date': '2023-01-26T14:25:17.390Z', 'atl': 3.08, 'atl_change_percentage': 278.79046, 'atl_date': '2022-12-29T21:35:14.796Z', 'roi': None, 'last_updated': '2024-11-21T08:45:43.864Z'}, {'id': 'wrapped-eeth', 'symbol': 'weeth', 'name': 'Wrapped eETH', 'image': 'https://coin-images.coingecko.com/coins/images/33033/large/weETH.png?1701438396', 'current_price': 3302.9, 'market_cap': 5681520271, 'market_cap_rank': 28, 'fully_diluted_valuation': 5681520271, 'total_volume': 19635437, 'high_24h': 3316.26, 'low_24h': 3193.08, 'price_change_24h': 9.88, 'price_change_percentage_24h': 0.3001, 'market_cap_change_24h': 53171884, 'market_cap_change_percentage_24h': 0.94472, 'circulating_supply': 1721362.31164332, 'total_supply': 1721362.31164332, 'max_supply': None, 'ath': 4196.87, 'ath_change_percentage': -21.39933, 'ath_date': '2024-03-13T08:29:59.938Z', 'atl': 2231.18, 'atl_change_percentage': 47.84895, 'atl_date': '2024-01-08T03:35:28.624Z', 'roi': None, 'last_updated': '2024-11-21T08:45:39.750Z'}, {'id': 'uniswap', 'symbol': 'uni', 'name': 'Uniswap', 'image': 'https://coin-images.coingecko.com/coins/images/12504/large/uniswap-logo.png?1720676669', 'current_price': 8.87, 'market_cap': 5322055870, 'market_cap_rank': 29, 'fully_diluted_valuation': 8863813494, 'total_volume': 454885693, 'high_24h': 9.19, 'low_24h': 8.57, 'price_change_24h': -0.32944238500349066, 'price_change_percentage_24h': -3.58302, 'market_cap_change_24h': -194010469.94696236, 'market_cap_change_percentage_24h': -3.51719, 'circulating_supply': 600425073.71, 'total_supply': 1000000000.0, 'max_supply': 1000000000.0, 'ath': 44.92, 'ath_change_percentage': -80.2936, 'ath_date': '2021-05-03T05:25:04.822Z', 'atl': 1.03, 'atl_change_percentage': 759.24887, 'atl_date': '2020-09-17T01:20:38.214Z', 'roi': None, 'last_updated': '2024-11-21T08:45:39.098Z'}, {'id': 'usds', 'symbol': 'usds', 'name': 'USDS', 'image': 'https://coin-images.coingecko.com/coins/images/39926/large/usds.webp?1726666683', 'current_price': 0.994693, 'market_cap': 5227723599, 'market_cap_rank': 30, 'fully_diluted_valuation': 5227723599, 'total_volume': 7916839, 'high_24h': 1.012, 'low_24h': 0.988005, 'price_change_24h': -0.006257830929063069, 'price_change_percentage_24h': -0.62519, 'market_cap_change_24h': -22650151.134176254, 'market_cap_change_percentage_24h': -0.4314, 'circulating_supply': 5256208319.52234, 'total_supply': 5256208319.52234, 'max_supply': None, 'ath': 1.057, 'ath_change_percentage': -5.70407, 'ath_date': '2024-10-29T05:40:51.197Z', 'atl': 0.948265, 'atl_change_percentage': 5.14062, 'atl_date': '2024-10-03T13:19:28.826Z', 'roi': None, 'last_updated': '2024-11-21T08:45:40.432Z'}, {'id': 'crypto-com-chain', 'symbol': 'cro', 'name': 'Cronos', 'image': 'https://coin-images.coingecko.com/coins/images/7310/large/cro_token_logo.png?1696507599', 'current_price': 0.175995, 'market_cap': 4774722798, 'market_cap_rank': 31, 'fully_diluted_valuation': 5279909872, 'total_volume': 88387851, 'high_24h': 0.187012, 'low_24h': 0.171631, 'price_change_24h': -0.004773566538630787, 'price_change_percentage_24h': -2.6407, 'market_cap_change_24h': -125955136.88210106, 'market_cap_change_percentage_24h': -2.57016, 'circulating_supply': 27129569896.3089, 'total_supply': 30000000000.0, 'max_supply': None, 'ath': 0.965407, 'ath_change_percentage': -81.78578, 'ath_date': '2021-11-24T15:53:54.855Z', 'atl': 0.0121196, 'atl_change_percentage': 1350.88422, 'atl_date': '2019-02-08T00:00:00.000Z', 'roi': None, 'last_updated': '2024-11-21T08:45:38.290Z'}, {'id': 'hedera-hashgraph', 'symbol': 'hbar', 'name': 'Hedera', 'image': 'https://coin-images.coingecko.com/coins/images/3688/large/hbar.png?1696504364', 'current_price': 0.125069, 'market_cap': 4713526480, 'market_cap_rank': 32, 'fully_diluted_valuation': 6252516886, 'total_volume': 1162802859, 'high_24h': 0.137117, 'low_24h': 0.118387, 'price_change_24h': 0.00105697, 'price_change_percentage_24h': 0.85232, 'market_cap_change_24h': -9950704.24837017, 'market_cap_change_percentage_24h': -0.21066, 'circulating_supply': 37693032792.4659, 'total_supply': 50000000000.0, 'max_supply': 50000000000.0, 'ath': 0.569229, 'ath_change_percentage': -78.00078, 'ath_date': '2021-09-15T10:40:28.318Z', 'atl': 0.00986111, 'atl_change_percentage': 1169.89698, 'atl_date': '2020-01-02T17:30:24.852Z', 'roi': None, 'last_updated': '2024-11-21T08:45:41.213Z'}, {'id': 'internet-computer', 'symbol': 'icp', 'name': 'Internet Computer', 'image': 'https://coin-images.coingecko.com/coins/images/14495/large/Internet_Computer_logo.png?1696514180', 'current_price': 9.06, 'market_cap': 4297780299, 'market_cap_rank': 33, 'fully_diluted_valuation': 4760108667, 'total_volume': 243365185, 'high_24h': 9.46, 'low_24h': 8.7, 'price_change_24h': -0.15885615445888135, 'price_change_percentage_24h': -1.72364, 'market_cap_change_24h': -71120977.14670372, 'market_cap_change_percentage_24h': -1.62789, 'circulating_supply': 474557979.673779, 'total_supply': 525607963.807108, 'max_supply': None, 'ath': 700.65, 'ath_change_percentage': -98.70867, 'ath_date': '2021-05-10T16:05:53.653Z', 'atl': 2.87, 'atl_change_percentage': 215.79854, 'atl_date': '2023-09-22T00:29:57.369Z', 'roi': None, 'last_updated': '2024-11-21T08:45:42.068Z'}, {'id': 'ethereum-classic', 'symbol': 'etc', 'name': 'Ethereum Classic', 'image': 'https://coin-images.coingecko.com/coins/images/453/large/ethereum-classic-logo.png?1696501717', 'current_price': 26.82, 'market_cap': 4011503901, 'market_cap_rank': 34, 'fully_diluted_valuation': 5648592578, 'total_volume': 488899446, 'high_24h': 26.96, 'low_24h': 24.81, 'price_change_24h': 0.907235, 'price_change_percentage_24h': 3.50147, 'market_cap_change_24h': 135104787, 'market_cap_change_percentage_24h': 3.48532, 'circulating_supply': 149634419.583051, 'total_supply': 210700000.0, 'max_supply': 210700000.0, 'ath': 167.09, 'ath_change_percentage': -83.95712, 'ath_date': '2021-05-06T18:34:22.133Z', 'atl': 0.615038, 'atl_change_percentage': 4258.31718, 'atl_date': '2016-07-25T00:00:00.000Z', 'roi': {'times': 58.59416735608611, 'currency': 'usd', 'percentage': 5859.416735608611}, 'last_updated': '2024-11-21T08:45:41.060Z'}, {'id': 'bonk', 'symbol': 'bonk', 'name': 'Bonk', 'image': 'https://coin-images.coingecko.com/coins/images/28600/large/bonk.jpg?1696527587', 'current_price': 5.174e-05, 'market_cap': 3890041542, 'market_cap_rank': 35, 'fully_diluted_valuation': 4802120608, 'total_volume': 2340746805, 'high_24h': 5.612e-05, 'low_24h': 4.703e-05, 'price_change_24h': -4.381696092935e-06, 'price_change_percentage_24h': -7.80734, 'market_cap_change_24h': -342742203.0378175, 'market_cap_change_percentage_24h': -8.09732, 'circulating_supply': 75092272664855.77, 'total_supply': 92698791563871.1, 'max_supply': 92698791563871.1, 'ath': 5.825e-05, 'ath_change_percentage': -11.17418, 'ath_date': '2024-11-20T04:01:06.465Z', 'atl': 8.6142e-08, 'atl_change_percentage': 59964.67055, 'atl_date': '2022-12-29T22:48:46.755Z', 'roi': None, 'last_updated': '2024-11-21T08:45:37.360Z'}, {'id': 'kaspa', 'symbol': 'kas', 'name': 'Kaspa', 'image': 'https://coin-images.coingecko.com/coins/images/25751/large/kaspa-icon-exchanges.png?1696524837', 'current_price': 0.152917, 'market_cap': 3853930497, 'market_cap_rank': 36, 'fully_diluted_valuation': 3854410494, 'total_volume': 160992968, 'high_24h': 0.165281, 'low_24h': 0.145686, 'price_change_24h': -0.007424074548541133, 'price_change_percentage_24h': -4.63016, 'market_cap_change_24h': -186327728.45075417, 'market_cap_change_percentage_24h': -4.61178, 'circulating_supply': 25191462254.8109, 'total_supply': 25194599785.263, 'max_supply': 28704026601.0, 'ath': 0.207411, 'ath_change_percentage': -26.22678, 'ath_date': '2024-08-01T00:40:47.164Z', 'atl': 0.00017105, 'atl_change_percentage': 89355.80688, 'atl_date': '2022-05-26T14:42:59.316Z', 'roi': None, 'last_updated': '2024-11-21T08:45:41.670Z'}, {'id': 'render-token', 'symbol': 'render', 'name': 'Render', 'image': 'https://coin-images.coingecko.com/coins/images/11636/large/rndr.png?1696511529', 'current_price': 7.35, 'market_cap': 3804104025, 'market_cap_rank': 37, 'fully_diluted_valuation': 3912564982, 'total_volume': 451060618, 'high_24h': 8.19, 'low_24h': 7.11, 'price_change_24h': -0.7560915467222982, 'price_change_percentage_24h': -9.3267, 'market_cap_change_24h': -388427679.86594343, 'market_cap_change_percentage_24h': -9.26475, 'circulating_supply': 517690753.125492, 'total_supply': 532450926.405492, 'max_supply': None, 'ath': 13.53, 'ath_change_percentage': -45.7473, 'ath_date': '2024-03-17T16:30:24.636Z', 'atl': 0.03665669, 'atl_change_percentage': 19931.64217, 'atl_date': '2020-06-16T13:22:25.900Z', 'roi': None, 'last_updated': '2024-11-21T08:45:34.951Z'}, {'id': 'ethena-usde', 'symbol': 'usde', 'name': 'Ethena USDe', 'image': 'https://coin-images.coingecko.com/coins/images/33613/large/USDE.png?1716355685', 'current_price': 1.002, 'market_cap': 3578543305, 'market_cap_rank': 38, 'fully_diluted_valuation': 3578543305, 'total_volume': 247316618, 'high_24h': 1.009, 'low_24h': 0.998251, 'price_change_24h': -7.5152476869178e-05, 'price_change_percentage_24h': -0.0075, 'market_cap_change_24h': 92942285, 'market_cap_change_percentage_24h': 2.66646, 'circulating_supply': 3572549223.57111, 'total_supply': 3572549223.57111, 'max_supply': None, 'ath': 1.032, 'ath_change_percentage': -3.01011, 'ath_date': '2023-12-20T15:38:34.596Z', 'atl': 0.929486, 'atl_change_percentage': 7.69557, 'atl_date': '2024-10-04T07:57:15.809Z', 'roi': None, 'last_updated': '2024-11-21T08:45:39.733Z'}, {'id': 'bittensor', 'symbol': 'tao', 'name': 'Bittensor', 'image': 'https://coin-images.coingecko.com/coins/images/28452/large/ARUsPeNQ_400x400.jpeg?1696527447', 'current_price': 480.74, 'market_cap': 3547270266, 'market_cap_rank': 39, 'fully_diluted_valuation': 10092459486, 'total_volume': 306860800, 'high_24h': 500.46, 'low_24h': 452.29, 'price_change_24h': 6.47, 'price_change_percentage_24h': 1.36381, 'market_cap_change_24h': 48568199, 'market_cap_change_percentage_24h': 1.38818, 'circulating_supply': 7381023.0, 'total_supply': 21000000.0, 'max_supply': 21000000.0, 'ath': 757.6, 'ath_change_percentage': -36.54184, 'ath_date': '2024-03-07T18:45:36.466Z', 'atl': 30.83, 'atl_change_percentage': 1459.39866, 'atl_date': '2023-05-14T08:57:53.732Z', 'roi': None, 'last_updated': '2024-11-21T08:45:37.192Z'}, {'id': 'polygon-ecosystem-token', 'symbol': 'pol', 'name': 'POL (ex-MATIC)', 'image': 'https://coin-images.coingecko.com/coins/images/32440/large/polygon.png?1698233684', 'current_price': 0.438914, 'market_cap': 3496949413, 'market_cap_rank': 40, 'fully_diluted_valuation': 4521315830, 'total_volume': 436367880, 'high_24h': 0.461826, 'low_24h': 0.420959, 'price_change_24h': 0.00648572, 'price_change_percentage_24h': 1.49984, 'market_cap_change_24h': 53724447, 'market_cap_change_percentage_24h': 1.56029, 'circulating_supply': 7969263155.263524, 'total_supply': 10303710865.0097, 'max_supply': None, 'ath': 1.29, 'ath_change_percentage': -65.90196, 'ath_date': '2024-03-13T18:55:06.692Z', 'atl': 0.286453, 'atl_change_percentage': 53.26528, 'atl_date': '2024-11-04T21:55:33.611Z', 'roi': None, 'last_updated': '2024-11-21T08:45:34.633Z'}, {'id': 'whitebit', 'symbol': 'wbt', 'name': 'WhiteBIT Coin', 'image': 'https://coin-images.coingecko.com/coins/images/27045/large/wbt_token.png?1696526096', 'current_price': 24.12, 'market_cap': 3472492261, 'market_cap_rank': 41, 'fully_diluted_valuation': 8180168987, 'total_volume': 30761882, 'high_24h': 24.25, 'low_24h': 23.75, 'price_change_24h': 0.196778, 'price_change_percentage_24h': 0.82255, 'market_cap_change_24h': 24775893, 'market_cap_change_percentage_24h': 0.71862, 'circulating_supply': 144118517.10815412, 'total_supply': 339500778.0, 'max_supply': 400000000.0, 'ath': 24.25, 'ath_change_percentage': -0.5425, 'ath_date': '2024-11-21T05:10:52.888Z', 'atl': 3.06, 'atl_change_percentage': 687.71219, 'atl_date': '2023-02-13T19:01:21.899Z', 'roi': None, 'last_updated': '2024-11-21T08:45:39.450Z'}, {'id': 'dai', 'symbol': 'dai', 'name': 'Dai', 'image': 'https://coin-images.coingecko.com/coins/images/9956/large/Badge_Dai.png?1696509996', 'current_price': 1.0, 'market_cap': 3430195038, 'market_cap_rank': 42, 'fully_diluted_valuation': 3430195038, 'total_volume': 153460451, 'high_24h': 1.004, 'low_24h': 0.9941, 'price_change_24h': -0.000443567125492539, 'price_change_percentage_24h': -0.04433, 'market_cap_change_24h': 21211289, 'market_cap_change_percentage_24h': 0.62222, 'circulating_supply': 3430793211.50162, 'total_supply': 3430793211.50162, 'max_supply': None, 'ath': 1.22, 'ath_change_percentage': -17.98654, 'ath_date': '2020-03-13T03:02:50.373Z', 'atl': 0.88196, 'atl_change_percentage': 13.34837, 'atl_date': '2023-03-11T07:50:50.514Z', 'roi': None, 'last_updated': '2024-11-21T08:45:38.874Z'}, {'id': 'mantra-dao', 'symbol': 'om', 'name': 'MANTRA', 'image': 'https://coin-images.coingecko.com/coins/images/12151/large/OM_Token.png?1696511991', 'current_price': 3.57, 'market_cap': 3219215811, 'market_cap_rank': 43, 'fully_diluted_valuation': 6380607664, 'total_volume': 282730514, 'high_24h': 4.01, 'low_24h': 3.56, 'price_change_24h': -0.4108101089436609, 'price_change_percentage_24h': -10.31785, 'market_cap_change_24h': -378017775.05597067, 'market_cap_change_percentage_24h': -10.50857, 'circulating_supply': 901288321.22, 'total_supply': 1786387588.83, 'max_supply': None, 'ath': 4.45, 'ath_change_percentage': -19.6872, 'ath_date': '2024-11-18T04:21:01.946Z', 'atl': 0.01726188, 'atl_change_percentage': 20612.05555, 'atl_date': '2023-10-12T17:25:09.068Z', 'roi': None, 'last_updated': '2024-11-21T08:45:42.299Z'}, {'id': 'fetch-ai', 'symbol': 'fet', 'name': 'Artificial Superintelligence Alliance', 'image': 'https://coin-images.coingecko.com/coins/images/5681/large/ASI.png?1719827289', 'current_price': 1.23, 'market_cap': 3198166992, 'market_cap_rank': 44, 'fully_diluted_valuation': 3332387670, 'total_volume': 476325791, 'high_24h': 1.31, 'low_24h': 1.19, 'price_change_24h': -0.07065278876410752, 'price_change_percentage_24h': -5.44562, 'market_cap_change_24h': -180036153.32824564, 'market_cap_change_percentage_24h': -5.32935, 'circulating_supply': 2609959126.672, 'total_supply': 2719493896.672, 'max_supply': 2719493896.672, 'ath': 3.45, 'ath_change_percentage': -64.53921, 'ath_date': '2024-03-28T17:21:18.050Z', 'atl': 0.00816959, 'atl_change_percentage': 14893.01413, 'atl_date': '2020-03-13T02:24:18.347Z', 'roi': {'times': 13.149609225987163, 'currency': 'usd', 'percentage': 1314.9609225987163}, 'last_updated': '2024-11-21T08:45:40.541Z'}, {'id': 'dogwifcoin', 'symbol': 'wif', 'name': 'dogwifhat', 'image': 'https://coin-images.coingecko.com/coins/images/33566/large/dogwifhat.jpg?1702499428', 'current_price': 3.19, 'market_cap': 3182453655, 'market_cap_rank': 45, 'fully_diluted_valuation': 3182453655, 'total_volume': 1057763442, 'high_24h': 3.36, 'low_24h': 3.0, 'price_change_24h': -0.16644407497451752, 'price_change_percentage_24h': -4.96379, 'market_cap_change_24h': -170123507.6932478, 'market_cap_change_percentage_24h': -5.07441, 'circulating_supply': 998926392.0, 'total_supply': 998926392.0, 'max_supply': 998926392.0, 'ath': 4.83, 'ath_change_percentage': -33.99101, 'ath_date': '2024-03-31T09:34:58.366Z', 'atl': 0.00155464, 'atl_change_percentage': 204785.99931, 'atl_date': '2023-12-13T07:13:50.873Z', 'roi': None, 'last_updated': '2024-11-21T08:45:39.731Z'}, {'id': 'monero', 'symbol': 'xmr', 'name': 'Monero', 'image': 'https://coin-images.coingecko.com/coins/images/69/large/monero_logo.png?1696501460', 'current_price': 160.15, 'market_cap': 2951491853, 'market_cap_rank': 46, 'fully_diluted_valuation': 2951491853, 'total_volume': 74614984, 'high_24h': 163.76, 'low_24h': 158.76, 'price_change_24h': 0.737851, 'price_change_percentage_24h': 0.46285, 'market_cap_change_24h': 10430408, 'market_cap_change_percentage_24h': 0.35465, 'circulating_supply': 18446744.0737096, 'total_supply': 18446744.0737096, 'max_supply': None, 'ath': 542.33, 'ath_change_percentage': -70.5056, 'ath_date': '2018-01-09T00:00:00.000Z', 'atl': 0.216177, 'atl_change_percentage': 73893.0328, 'atl_date': '2015-01-14T00:00:00.000Z', 'roi': None, 'last_updated': '2024-11-21T08:45:42.515Z'}, {'id': 'arbitrum', 'symbol': 'arb', 'name': 'Arbitrum', 'image': 'https://coin-images.coingecko.com/coins/images/16547/large/arb.jpg?1721358242', 'current_price': 0.709348, 'market_cap': 2905410447, 'market_cap_rank': 47, 'fully_diluted_valuation': 7090933129, 'total_volume': 842151882, 'high_24h': 0.709104, 'low_24h': 0.652026, 'price_change_24h': 0.01784944, 'price_change_percentage_24h': 2.58127, 'market_cap_change_24h': 74151279, 'market_cap_change_percentage_24h': 2.61902, 'circulating_supply': 4097359817.0, 'total_supply': 10000000000.0, 'max_supply': 10000000000.0, 'ath': 2.39, 'ath_change_percentage': -70.39526, 'ath_date': '2024-01-12T12:29:59.231Z', 'atl': 0.431578, 'atl_change_percentage': 63.96526, 'atl_date': '2024-08-05T11:35:54.024Z', 'roi': None, 'last_updated': '2024-11-21T08:45:43.778Z'}, {'id': 'blockstack', 'symbol': 'stx', 'name': 'Stacks', 'image': 'https://coin-images.coingecko.com/coins/images/2069/large/Stacks_Logo_png.png?1709979332', 'current_price': 1.93, 'market_cap': 2894815036, 'market_cap_rank': 48, 'fully_diluted_valuation': 2895132610, 'total_volume': 327894101, 'high_24h': 1.95, 'low_24h': 1.77, 'price_change_24h': 0.075356, 'price_change_percentage_24h': 4.06702, 'market_cap_change_24h': 113256467, 'market_cap_change_percentage_24h': 4.07169, 'circulating_supply': 1501444242.23652, 'total_supply': 1501608957.19242, 'max_supply': 1818000000.0, 'ath': 3.86, 'ath_change_percentage': -50.09276, 'ath_date': '2024-04-01T12:34:58.342Z', 'atl': 0.04559639, 'atl_change_percentage': 4129.66879, 'atl_date': '2020-03-13T02:29:26.415Z', 'roi': {'times': 15.068485305497234, 'currency': 'usd', 'percentage': 1506.8485305497234}, 'last_updated': '2024-11-21T08:45:37.348Z'}, {'id': 'filecoin', 'symbol': 'fil', 'name': 'Filecoin', 'image': 'https://coin-images.coingecko.com/coins/images/12817/large/filecoin.png?1696512609', 'current_price': 4.5, 'market_cap': 2700065605, 'market_cap_rank': 49, 'fully_diluted_valuation': 8812749126, 'total_volume': 529945465, 'high_24h': 4.51, 'low_24h': 4.1, 'price_change_24h': 0.107561, 'price_change_percentage_24h': 2.44992, 'market_cap_change_24h': 69529495, 'market_cap_change_percentage_24h': 2.64317, 'circulating_supply': 600463080.0, 'total_supply': 1959852558.0, 'max_supply': 1959852558.0, 'ath': 236.84, 'ath_change_percentage': -98.10112, 'ath_date': '2021-04-01T13:29:41.564Z', 'atl': 2.64, 'atl_change_percentage': 70.29042, 'atl_date': '2022-12-16T22:45:28.552Z', 'roi': None, 'last_updated': '2024-11-21T08:45:40.561Z'}, {'id': 'okb', 'symbol': 'okb', 'name': 'OKB', 'image': 'https://coin-images.coingecko.com/coins/images/4463/large/WeChat_Image_20220118095654.png?1696505053', 'current_price': 44.34, 'market_cap': 2660235468, 'market_cap_rank': 50, 'fully_diluted_valuation': 10461716723, 'total_volume': 8579773, 'high_24h': 44.62, 'low_24h': 43.38, 'price_change_24h': 0.148711, 'price_change_percentage_24h': 0.33655, 'market_cap_change_24h': 9123126, 'market_cap_change_percentage_24h': 0.34412, 'circulating_supply': 60000000.0, 'total_supply': 235957685.3, 'max_supply': 300000000.0, 'ath': 73.8, 'ath_change_percentage': -39.95531, 'ath_date': '2024-03-14T00:30:12.502Z', 'atl': 0.580608, 'atl_change_percentage': 7532.51511, 'atl_date': '2019-01-14T00:00:00.000Z', 'roi': None, 'last_updated': '2024-11-21T08:45:33.194Z'}]\n"
     ]
    }
   ],
   "source": [
    "import requests\n",
    "\n",
    "def fetch_crypto_data():\n",
    "    url = \"https://api.coingecko.com/api/v3/coins/markets\"\n",
    "    params = {\n",
    "        \"vs_currency\": \"usd\",\n",
    "        \"order\": \"market_cap_desc\",\n",
    "        \"per_page\": 50,\n",
    "        \"page\": 1,\n",
    "    }\n",
    "    response = requests.get(url, params=params)\n",
    "    return response.json()\n",
    "\n",
    "crypto_data = fetch_crypto_data()\n",
    "print(crypto_data)  # View the data structure\n"
   ]
  },
  {
   "cell_type": "code",
   "execution_count": 4,
   "metadata": {},
   "outputs": [
    {
     "name": "stdout",
     "output_type": "stream",
     "text": [
      "Top 5 by Market Cap:        name     market_cap\n",
      "0   Bitcoin  1916079299375\n",
      "1  Ethereum   378246624831\n",
      "2    Tether   130200112307\n",
      "3    Solana   114981813561\n",
      "4       BNB    89333965224\n",
      "Average Price: 4243.4849091844\n",
      "Highest Change:             name  price_change_percentage_24h\n",
      "16  Bitcoin Cash                      16.7328\n",
      "Lowest Change:       name  price_change_percentage_24h\n",
      "42  MANTRA                    -10.31785\n"
     ]
    }
   ],
   "source": [
    "import pandas as pd\n",
    "\n",
    "# Convert to DataFrame\n",
    "df = pd.DataFrame(crypto_data)\n",
    "\n",
    "# Top 5 by market cap\n",
    "top_5 = df.nlargest(5, 'market_cap')[['name', 'market_cap']]\n",
    "\n",
    "# Average price\n",
    "avg_price = df['current_price'].mean()\n",
    "\n",
    "# Highest and lowest 24-hour percentage change\n",
    "highest_change = df.nlargest(1, 'price_change_percentage_24h')[['name', 'price_change_percentage_24h']]\n",
    "lowest_change = df.nsmallest(1, 'price_change_percentage_24h')[['name', 'price_change_percentage_24h']]\n",
    "\n",
    "print(\"Top 5 by Market Cap:\", top_5)\n",
    "print(\"Average Price:\", avg_price)\n",
    "print(\"Highest Change:\", highest_change)\n",
    "print(\"Lowest Change:\", lowest_change)\n"
   ]
  },
  {
   "cell_type": "code",
   "execution_count": null,
   "metadata": {},
   "outputs": [],
   "source": [
    "import gspread\n",
    "from oauth2client.service_account import ServiceAccountCredentials\n",
    "\n",
    "# Authenticate\n",
    "scope = ['https://spreadsheets.google.com/feeds', 'https://www.googleapis.com/auth/drive']\n",
    "creds = ServiceAccountCredentials.from_json_keyfile_name('your-credentials.json', scope)\n",
    "client = gspread.authorize(creds)\n",
    "\n",
    "# Open sheet\n",
    "sheet = client.open(\"CryptoData\").sheet1\n"
   ]
  },
  {
   "cell_type": "code",
   "execution_count": 5,
   "metadata": {},
   "outputs": [
    {
     "ename": "FileNotFoundError",
     "evalue": "[Errno 2] No such file or directory: 'credentials.json'",
     "output_type": "error",
     "traceback": [
      "\u001b[0;31m---------------------------------------------------------------------------\u001b[0m",
      "\u001b[0;31mFileNotFoundError\u001b[0m                         Traceback (most recent call last)",
      "Cell \u001b[0;32mIn[5], line 8\u001b[0m\n\u001b[1;32m      5\u001b[0m scope \u001b[38;5;241m=\u001b[39m [\u001b[38;5;124m'\u001b[39m\u001b[38;5;124mhttps://spreadsheets.google.com/feeds\u001b[39m\u001b[38;5;124m'\u001b[39m, \u001b[38;5;124m'\u001b[39m\u001b[38;5;124mhttps://www.googleapis.com/auth/drive\u001b[39m\u001b[38;5;124m'\u001b[39m]\n\u001b[1;32m      7\u001b[0m \u001b[38;5;66;03m# Load the service account credentials\u001b[39;00m\n\u001b[0;32m----> 8\u001b[0m creds \u001b[38;5;241m=\u001b[39m \u001b[43mServiceAccountCredentials\u001b[49m\u001b[38;5;241;43m.\u001b[39;49m\u001b[43mfrom_json_keyfile_name\u001b[49m\u001b[43m(\u001b[49m\u001b[38;5;124;43m'\u001b[39;49m\u001b[38;5;124;43mcredentials.json\u001b[39;49m\u001b[38;5;124;43m'\u001b[39;49m\u001b[43m,\u001b[49m\u001b[43m \u001b[49m\u001b[43mscope\u001b[49m\u001b[43m)\u001b[49m\n\u001b[1;32m     10\u001b[0m \u001b[38;5;66;03m# Authorize and connect to Google Sheets\u001b[39;00m\n\u001b[1;32m     11\u001b[0m client \u001b[38;5;241m=\u001b[39m gspread\u001b[38;5;241m.\u001b[39mauthorize(creds)\n",
      "File \u001b[0;32m~/anaconda3/envs/venv/lib/python3.10/site-packages/oauth2client/service_account.py:219\u001b[0m, in \u001b[0;36mServiceAccountCredentials.from_json_keyfile_name\u001b[0;34m(cls, filename, scopes, token_uri, revoke_uri)\u001b[0m\n\u001b[1;32m    193\u001b[0m \u001b[38;5;129m@classmethod\u001b[39m\n\u001b[1;32m    194\u001b[0m \u001b[38;5;28;01mdef\u001b[39;00m \u001b[38;5;21mfrom_json_keyfile_name\u001b[39m(\u001b[38;5;28mcls\u001b[39m, filename, scopes\u001b[38;5;241m=\u001b[39m\u001b[38;5;124m'\u001b[39m\u001b[38;5;124m'\u001b[39m,\n\u001b[1;32m    195\u001b[0m                            token_uri\u001b[38;5;241m=\u001b[39m\u001b[38;5;28;01mNone\u001b[39;00m, revoke_uri\u001b[38;5;241m=\u001b[39m\u001b[38;5;28;01mNone\u001b[39;00m):\n\u001b[1;32m    197\u001b[0m \u001b[38;5;250m    \u001b[39m\u001b[38;5;124;03m\"\"\"Factory constructor from JSON keyfile by name.\u001b[39;00m\n\u001b[1;32m    198\u001b[0m \n\u001b[1;32m    199\u001b[0m \u001b[38;5;124;03m    Args:\u001b[39;00m\n\u001b[0;32m   (...)\u001b[0m\n\u001b[1;32m    217\u001b[0m \u001b[38;5;124;03m            the keyfile.\u001b[39;00m\n\u001b[1;32m    218\u001b[0m \u001b[38;5;124;03m    \"\"\"\u001b[39;00m\n\u001b[0;32m--> 219\u001b[0m     \u001b[38;5;28;01mwith\u001b[39;00m \u001b[38;5;28;43mopen\u001b[39;49m\u001b[43m(\u001b[49m\u001b[43mfilename\u001b[49m\u001b[43m,\u001b[49m\u001b[43m \u001b[49m\u001b[38;5;124;43m'\u001b[39;49m\u001b[38;5;124;43mr\u001b[39;49m\u001b[38;5;124;43m'\u001b[39;49m\u001b[43m)\u001b[49m \u001b[38;5;28;01mas\u001b[39;00m file_obj:\n\u001b[1;32m    220\u001b[0m         client_credentials \u001b[38;5;241m=\u001b[39m json\u001b[38;5;241m.\u001b[39mload(file_obj)\n\u001b[1;32m    221\u001b[0m     \u001b[38;5;28;01mreturn\u001b[39;00m \u001b[38;5;28mcls\u001b[39m\u001b[38;5;241m.\u001b[39m_from_parsed_json_keyfile(client_credentials, scopes,\n\u001b[1;32m    222\u001b[0m                                          token_uri\u001b[38;5;241m=\u001b[39mtoken_uri,\n\u001b[1;32m    223\u001b[0m                                          revoke_uri\u001b[38;5;241m=\u001b[39mrevoke_uri)\n",
      "\u001b[0;31mFileNotFoundError\u001b[0m: [Errno 2] No such file or directory: 'credentials.json'"
     ]
    }
   ],
   "source": [
    "from oauth2client.service_account import ServiceAccountCredentials\n",
    "import gspread\n",
    "\n",
    "# Define the scope\n",
    "scope = ['https://spreadsheets.google.com/feeds', 'https://www.googleapis.com/auth/drive']\n",
    "\n",
    "# Load the service account credentials\n",
    "creds = ServiceAccountCredentials.from_json_keyfile_name('credentials.json', scope)\n",
    "\n",
    "# Authorize and connect to Google Sheets\n",
    "client = gspread.authorize(creds)\n",
    "sheet = client.open(\"CryptoData\").sheet1\n"
   ]
  },
  {
   "cell_type": "code",
   "execution_count": 10,
   "metadata": {},
   "outputs": [
    {
     "data": {
      "text/plain": [
       "{'spreadsheetId': '1yJlKex97GWe7hnmr6HC09MdfmbhqrUh_4TFThOEfHkc',\n",
       " 'updatedRange': 'Sheet1!B1',\n",
       " 'updatedRows': 1,\n",
       " 'updatedColumns': 1,\n",
       " 'updatedCells': 1}"
      ]
     },
     "execution_count": 10,
     "metadata": {},
     "output_type": "execute_result"
    }
   ],
   "source": [
    "import gspread\n",
    "from google.oauth2.service_account import Credentials\n",
    "\n",
    "# Load credentials and scope\n",
    "SCOPES = ['https://www.googleapis.com/auth/spreadsheets']\n",
    "credentials = Credentials.from_service_account_file('my-test-project-434516-b21932bb9234.json', scopes=SCOPES)\n",
    "\n",
    "# Authorize client\n",
    "gc = gspread.authorize(credentials)\n",
    "\n",
    "# Open the Google Sheet\n",
    "sheet = gc.open_by_url('https://docs.google.com/spreadsheets/d/1yJlKex97GWe7hnmr6HC09MdfmbhqrUh_4TFThOEfHkc/edit?gid=0#gid=0')\n",
    "worksheet = sheet.sheet1\n",
    "\n",
    "# Perform operations\n",
    "worksheet.update_cell(1, 2, \"SUN!\")  # Updates cell A1\n"
   ]
  },
  {
   "cell_type": "code",
   "execution_count": 11,
   "metadata": {},
   "outputs": [
    {
     "ename": "AttributeError",
     "evalue": "'Spreadsheet' object has no attribute 'clear'",
     "output_type": "error",
     "traceback": [
      "\u001b[0;31m---------------------------------------------------------------------------\u001b[0m",
      "\u001b[0;31mAttributeError\u001b[0m                            Traceback (most recent call last)",
      "Cell \u001b[0;32mIn[11], line 15\u001b[0m\n\u001b[1;32m      9\u001b[0m     \u001b[38;5;28;01mfor\u001b[39;00m coin \u001b[38;5;129;01min\u001b[39;00m data:\n\u001b[1;32m     10\u001b[0m         sheet\u001b[38;5;241m.\u001b[39mappend_row([\n\u001b[1;32m     11\u001b[0m             coin[\u001b[38;5;124m\"\u001b[39m\u001b[38;5;124mname\u001b[39m\u001b[38;5;124m\"\u001b[39m], coin[\u001b[38;5;124m\"\u001b[39m\u001b[38;5;124msymbol\u001b[39m\u001b[38;5;124m\"\u001b[39m], coin[\u001b[38;5;124m\"\u001b[39m\u001b[38;5;124mcurrent_price\u001b[39m\u001b[38;5;124m\"\u001b[39m],\n\u001b[1;32m     12\u001b[0m             coin[\u001b[38;5;124m\"\u001b[39m\u001b[38;5;124mmarket_cap\u001b[39m\u001b[38;5;124m\"\u001b[39m], coin[\u001b[38;5;124m\"\u001b[39m\u001b[38;5;124mtotal_volume\u001b[39m\u001b[38;5;124m\"\u001b[39m], coin[\u001b[38;5;124m\"\u001b[39m\u001b[38;5;124mprice_change_percentage_24h\u001b[39m\u001b[38;5;124m\"\u001b[39m]\n\u001b[1;32m     13\u001b[0m         ])\n\u001b[0;32m---> 15\u001b[0m \u001b[43mupdate_sheet\u001b[49m\u001b[43m(\u001b[49m\u001b[43msheet\u001b[49m\u001b[43m,\u001b[49m\u001b[43m \u001b[49m\u001b[43mcrypto_data\u001b[49m\u001b[43m)\u001b[49m\n",
      "Cell \u001b[0;32mIn[11], line 3\u001b[0m, in \u001b[0;36mupdate_sheet\u001b[0;34m(sheet, data)\u001b[0m\n\u001b[1;32m      1\u001b[0m \u001b[38;5;28;01mdef\u001b[39;00m \u001b[38;5;21mupdate_sheet\u001b[39m(sheet, data):\n\u001b[1;32m      2\u001b[0m     \u001b[38;5;66;03m# Clear existing data\u001b[39;00m\n\u001b[0;32m----> 3\u001b[0m     \u001b[43msheet\u001b[49m\u001b[38;5;241;43m.\u001b[39;49m\u001b[43mclear\u001b[49m()\n\u001b[1;32m      5\u001b[0m     \u001b[38;5;66;03m# Write header\u001b[39;00m\n\u001b[1;32m      6\u001b[0m     sheet\u001b[38;5;241m.\u001b[39mappend_row([\u001b[38;5;124m\"\u001b[39m\u001b[38;5;124mName\u001b[39m\u001b[38;5;124m\"\u001b[39m, \u001b[38;5;124m\"\u001b[39m\u001b[38;5;124mSymbol\u001b[39m\u001b[38;5;124m\"\u001b[39m, \u001b[38;5;124m\"\u001b[39m\u001b[38;5;124mPrice (USD)\u001b[39m\u001b[38;5;124m\"\u001b[39m, \u001b[38;5;124m\"\u001b[39m\u001b[38;5;124mMarket Cap\u001b[39m\u001b[38;5;124m\"\u001b[39m, \u001b[38;5;124m\"\u001b[39m\u001b[38;5;124m24h Volume\u001b[39m\u001b[38;5;124m\"\u001b[39m, \u001b[38;5;124m\"\u001b[39m\u001b[38;5;124m24h \u001b[39m\u001b[38;5;124m%\u001b[39m\u001b[38;5;124m Change\u001b[39m\u001b[38;5;124m\"\u001b[39m])\n",
      "\u001b[0;31mAttributeError\u001b[0m: 'Spreadsheet' object has no attribute 'clear'"
     ]
    }
   ],
   "source": [
    "def update_sheet(sheet, data):\n",
    "    # Clear existing data\n",
    "    sheet.clear()\n",
    "\n",
    "    # Write header\n",
    "    sheet.append_row([\"Name\", \"Symbol\", \"Price (USD)\", \"Market Cap\", \"24h Volume\", \"24h % Change\"])\n",
    "\n",
    "    # Write data\n",
    "    for coin in data:\n",
    "        sheet.append_row([\n",
    "            coin[\"name\"], coin[\"symbol\"], coin[\"current_price\"],\n",
    "            coin[\"market_cap\"], coin[\"total_volume\"], coin[\"price_change_percentage_24h\"]\n",
    "        ])\n",
    "\n",
    "update_sheet(sheet, crypto_data)\n"
   ]
  },
  {
   "cell_type": "code",
   "execution_count": null,
   "metadata": {},
   "outputs": [],
   "source": [
    "import schedule\n",
    "import time\n",
    "\n",
    "def job():\n",
    "    crypto_data = fetch_crypto_data()\n",
    "    update_sheet(sheet, crypto_data)\n",
    "\n",
    "schedule.every(5).minutes.do(job)\n",
    "\n",
    "while True:\n",
    "    schedule.run_pending()\n",
    "    time.sleep(1)\n"
   ]
  },
  {
   "cell_type": "code",
   "execution_count": 12,
   "metadata": {},
   "outputs": [
    {
     "name": "stdout",
     "output_type": "stream",
     "text": [
      "Fetching cryptocurrency data...\n"
     ]
    },
    {
     "name": "stderr",
     "output_type": "stream",
     "text": [
      "/var/folders/wg/8rqwg0nd7995t2tzgq40dsph0000gn/T/ipykernel_30477/1698233665.py:50: DeprecationWarning: The order of arguments in worksheet.update() has changed. Please pass values first and range_name secondor used named arguments (range_name=, values=)\n",
      "  worksheet.update(\"A1\", rows)\n"
     ]
    },
    {
     "name": "stdout",
     "output_type": "stream",
     "text": [
      "Sheet updated successfully!\n",
      "Fetching cryptocurrency data...\n"
     ]
    },
    {
     "ename": "TransportError",
     "evalue": "HTTPSConnectionPool(host='oauth2.googleapis.com', port=443): Read timed out. (read timeout=120)",
     "output_type": "error",
     "traceback": [
      "\u001b[0;31m---------------------------------------------------------------------------\u001b[0m",
      "\u001b[0;31mTimeoutError\u001b[0m                              Traceback (most recent call last)",
      "File \u001b[0;32m~/anaconda3/envs/venv/lib/python3.10/site-packages/urllib3/connectionpool.py:536\u001b[0m, in \u001b[0;36mHTTPConnectionPool._make_request\u001b[0;34m(self, conn, method, url, body, headers, retries, timeout, chunked, response_conn, preload_content, decode_content, enforce_content_length)\u001b[0m\n\u001b[1;32m    535\u001b[0m \u001b[38;5;28;01mtry\u001b[39;00m:\n\u001b[0;32m--> 536\u001b[0m     response \u001b[38;5;241m=\u001b[39m \u001b[43mconn\u001b[49m\u001b[38;5;241;43m.\u001b[39;49m\u001b[43mgetresponse\u001b[49m\u001b[43m(\u001b[49m\u001b[43m)\u001b[49m\n\u001b[1;32m    537\u001b[0m \u001b[38;5;28;01mexcept\u001b[39;00m (BaseSSLError, \u001b[38;5;167;01mOSError\u001b[39;00m) \u001b[38;5;28;01mas\u001b[39;00m e:\n",
      "File \u001b[0;32m~/anaconda3/envs/venv/lib/python3.10/site-packages/urllib3/connection.py:507\u001b[0m, in \u001b[0;36mHTTPConnection.getresponse\u001b[0;34m(self)\u001b[0m\n\u001b[1;32m    506\u001b[0m \u001b[38;5;66;03m# Get the response from http.client.HTTPConnection\u001b[39;00m\n\u001b[0;32m--> 507\u001b[0m httplib_response \u001b[38;5;241m=\u001b[39m \u001b[38;5;28;43msuper\u001b[39;49m\u001b[43m(\u001b[49m\u001b[43m)\u001b[49m\u001b[38;5;241;43m.\u001b[39;49m\u001b[43mgetresponse\u001b[49m\u001b[43m(\u001b[49m\u001b[43m)\u001b[49m\n\u001b[1;32m    509\u001b[0m \u001b[38;5;28;01mtry\u001b[39;00m:\n",
      "File \u001b[0;32m~/anaconda3/envs/venv/lib/python3.10/http/client.py:1375\u001b[0m, in \u001b[0;36mHTTPConnection.getresponse\u001b[0;34m(self)\u001b[0m\n\u001b[1;32m   1374\u001b[0m \u001b[38;5;28;01mtry\u001b[39;00m:\n\u001b[0;32m-> 1375\u001b[0m     \u001b[43mresponse\u001b[49m\u001b[38;5;241;43m.\u001b[39;49m\u001b[43mbegin\u001b[49m\u001b[43m(\u001b[49m\u001b[43m)\u001b[49m\n\u001b[1;32m   1376\u001b[0m \u001b[38;5;28;01mexcept\u001b[39;00m \u001b[38;5;167;01mConnectionError\u001b[39;00m:\n",
      "File \u001b[0;32m~/anaconda3/envs/venv/lib/python3.10/http/client.py:318\u001b[0m, in \u001b[0;36mHTTPResponse.begin\u001b[0;34m(self)\u001b[0m\n\u001b[1;32m    317\u001b[0m \u001b[38;5;28;01mwhile\u001b[39;00m \u001b[38;5;28;01mTrue\u001b[39;00m:\n\u001b[0;32m--> 318\u001b[0m     version, status, reason \u001b[38;5;241m=\u001b[39m \u001b[38;5;28;43mself\u001b[39;49m\u001b[38;5;241;43m.\u001b[39;49m\u001b[43m_read_status\u001b[49m\u001b[43m(\u001b[49m\u001b[43m)\u001b[49m\n\u001b[1;32m    319\u001b[0m     \u001b[38;5;28;01mif\u001b[39;00m status \u001b[38;5;241m!=\u001b[39m CONTINUE:\n",
      "File \u001b[0;32m~/anaconda3/envs/venv/lib/python3.10/http/client.py:279\u001b[0m, in \u001b[0;36mHTTPResponse._read_status\u001b[0;34m(self)\u001b[0m\n\u001b[1;32m    278\u001b[0m \u001b[38;5;28;01mdef\u001b[39;00m \u001b[38;5;21m_read_status\u001b[39m(\u001b[38;5;28mself\u001b[39m):\n\u001b[0;32m--> 279\u001b[0m     line \u001b[38;5;241m=\u001b[39m \u001b[38;5;28mstr\u001b[39m(\u001b[38;5;28;43mself\u001b[39;49m\u001b[38;5;241;43m.\u001b[39;49m\u001b[43mfp\u001b[49m\u001b[38;5;241;43m.\u001b[39;49m\u001b[43mreadline\u001b[49m\u001b[43m(\u001b[49m\u001b[43m_MAXLINE\u001b[49m\u001b[43m \u001b[49m\u001b[38;5;241;43m+\u001b[39;49m\u001b[43m \u001b[49m\u001b[38;5;241;43m1\u001b[39;49m\u001b[43m)\u001b[49m, \u001b[38;5;124m\"\u001b[39m\u001b[38;5;124miso-8859-1\u001b[39m\u001b[38;5;124m\"\u001b[39m)\n\u001b[1;32m    280\u001b[0m     \u001b[38;5;28;01mif\u001b[39;00m \u001b[38;5;28mlen\u001b[39m(line) \u001b[38;5;241m>\u001b[39m _MAXLINE:\n",
      "File \u001b[0;32m~/anaconda3/envs/venv/lib/python3.10/socket.py:717\u001b[0m, in \u001b[0;36mSocketIO.readinto\u001b[0;34m(self, b)\u001b[0m\n\u001b[1;32m    716\u001b[0m \u001b[38;5;28;01mtry\u001b[39;00m:\n\u001b[0;32m--> 717\u001b[0m     \u001b[38;5;28;01mreturn\u001b[39;00m \u001b[38;5;28;43mself\u001b[39;49m\u001b[38;5;241;43m.\u001b[39;49m\u001b[43m_sock\u001b[49m\u001b[38;5;241;43m.\u001b[39;49m\u001b[43mrecv_into\u001b[49m\u001b[43m(\u001b[49m\u001b[43mb\u001b[49m\u001b[43m)\u001b[49m\n\u001b[1;32m    718\u001b[0m \u001b[38;5;28;01mexcept\u001b[39;00m timeout:\n",
      "File \u001b[0;32m~/anaconda3/envs/venv/lib/python3.10/ssl.py:1307\u001b[0m, in \u001b[0;36mSSLSocket.recv_into\u001b[0;34m(self, buffer, nbytes, flags)\u001b[0m\n\u001b[1;32m   1304\u001b[0m         \u001b[38;5;28;01mraise\u001b[39;00m \u001b[38;5;167;01mValueError\u001b[39;00m(\n\u001b[1;32m   1305\u001b[0m           \u001b[38;5;124m\"\u001b[39m\u001b[38;5;124mnon-zero flags not allowed in calls to recv_into() on \u001b[39m\u001b[38;5;132;01m%s\u001b[39;00m\u001b[38;5;124m\"\u001b[39m \u001b[38;5;241m%\u001b[39m\n\u001b[1;32m   1306\u001b[0m           \u001b[38;5;28mself\u001b[39m\u001b[38;5;241m.\u001b[39m\u001b[38;5;18m__class__\u001b[39m)\n\u001b[0;32m-> 1307\u001b[0m     \u001b[38;5;28;01mreturn\u001b[39;00m \u001b[38;5;28;43mself\u001b[39;49m\u001b[38;5;241;43m.\u001b[39;49m\u001b[43mread\u001b[49m\u001b[43m(\u001b[49m\u001b[43mnbytes\u001b[49m\u001b[43m,\u001b[49m\u001b[43m \u001b[49m\u001b[43mbuffer\u001b[49m\u001b[43m)\u001b[49m\n\u001b[1;32m   1308\u001b[0m \u001b[38;5;28;01melse\u001b[39;00m:\n",
      "File \u001b[0;32m~/anaconda3/envs/venv/lib/python3.10/ssl.py:1163\u001b[0m, in \u001b[0;36mSSLSocket.read\u001b[0;34m(self, len, buffer)\u001b[0m\n\u001b[1;32m   1162\u001b[0m \u001b[38;5;28;01mif\u001b[39;00m buffer \u001b[38;5;129;01mis\u001b[39;00m \u001b[38;5;129;01mnot\u001b[39;00m \u001b[38;5;28;01mNone\u001b[39;00m:\n\u001b[0;32m-> 1163\u001b[0m     \u001b[38;5;28;01mreturn\u001b[39;00m \u001b[38;5;28;43mself\u001b[39;49m\u001b[38;5;241;43m.\u001b[39;49m\u001b[43m_sslobj\u001b[49m\u001b[38;5;241;43m.\u001b[39;49m\u001b[43mread\u001b[49m\u001b[43m(\u001b[49m\u001b[38;5;28;43mlen\u001b[39;49m\u001b[43m,\u001b[49m\u001b[43m \u001b[49m\u001b[43mbuffer\u001b[49m\u001b[43m)\u001b[49m\n\u001b[1;32m   1164\u001b[0m \u001b[38;5;28;01melse\u001b[39;00m:\n",
      "\u001b[0;31mTimeoutError\u001b[0m: The read operation timed out",
      "\nThe above exception was the direct cause of the following exception:\n",
      "\u001b[0;31mReadTimeoutError\u001b[0m                          Traceback (most recent call last)",
      "File \u001b[0;32m~/anaconda3/envs/venv/lib/python3.10/site-packages/requests/adapters.py:667\u001b[0m, in \u001b[0;36mHTTPAdapter.send\u001b[0;34m(self, request, stream, timeout, verify, cert, proxies)\u001b[0m\n\u001b[1;32m    666\u001b[0m \u001b[38;5;28;01mtry\u001b[39;00m:\n\u001b[0;32m--> 667\u001b[0m     resp \u001b[38;5;241m=\u001b[39m \u001b[43mconn\u001b[49m\u001b[38;5;241;43m.\u001b[39;49m\u001b[43murlopen\u001b[49m\u001b[43m(\u001b[49m\n\u001b[1;32m    668\u001b[0m \u001b[43m        \u001b[49m\u001b[43mmethod\u001b[49m\u001b[38;5;241;43m=\u001b[39;49m\u001b[43mrequest\u001b[49m\u001b[38;5;241;43m.\u001b[39;49m\u001b[43mmethod\u001b[49m\u001b[43m,\u001b[49m\n\u001b[1;32m    669\u001b[0m \u001b[43m        \u001b[49m\u001b[43murl\u001b[49m\u001b[38;5;241;43m=\u001b[39;49m\u001b[43murl\u001b[49m\u001b[43m,\u001b[49m\n\u001b[1;32m    670\u001b[0m \u001b[43m        \u001b[49m\u001b[43mbody\u001b[49m\u001b[38;5;241;43m=\u001b[39;49m\u001b[43mrequest\u001b[49m\u001b[38;5;241;43m.\u001b[39;49m\u001b[43mbody\u001b[49m\u001b[43m,\u001b[49m\n\u001b[1;32m    671\u001b[0m \u001b[43m        \u001b[49m\u001b[43mheaders\u001b[49m\u001b[38;5;241;43m=\u001b[39;49m\u001b[43mrequest\u001b[49m\u001b[38;5;241;43m.\u001b[39;49m\u001b[43mheaders\u001b[49m\u001b[43m,\u001b[49m\n\u001b[1;32m    672\u001b[0m \u001b[43m        \u001b[49m\u001b[43mredirect\u001b[49m\u001b[38;5;241;43m=\u001b[39;49m\u001b[38;5;28;43;01mFalse\u001b[39;49;00m\u001b[43m,\u001b[49m\n\u001b[1;32m    673\u001b[0m \u001b[43m        \u001b[49m\u001b[43massert_same_host\u001b[49m\u001b[38;5;241;43m=\u001b[39;49m\u001b[38;5;28;43;01mFalse\u001b[39;49;00m\u001b[43m,\u001b[49m\n\u001b[1;32m    674\u001b[0m \u001b[43m        \u001b[49m\u001b[43mpreload_content\u001b[49m\u001b[38;5;241;43m=\u001b[39;49m\u001b[38;5;28;43;01mFalse\u001b[39;49;00m\u001b[43m,\u001b[49m\n\u001b[1;32m    675\u001b[0m \u001b[43m        \u001b[49m\u001b[43mdecode_content\u001b[49m\u001b[38;5;241;43m=\u001b[39;49m\u001b[38;5;28;43;01mFalse\u001b[39;49;00m\u001b[43m,\u001b[49m\n\u001b[1;32m    676\u001b[0m \u001b[43m        \u001b[49m\u001b[43mretries\u001b[49m\u001b[38;5;241;43m=\u001b[39;49m\u001b[38;5;28;43mself\u001b[39;49m\u001b[38;5;241;43m.\u001b[39;49m\u001b[43mmax_retries\u001b[49m\u001b[43m,\u001b[49m\n\u001b[1;32m    677\u001b[0m \u001b[43m        \u001b[49m\u001b[43mtimeout\u001b[49m\u001b[38;5;241;43m=\u001b[39;49m\u001b[43mtimeout\u001b[49m\u001b[43m,\u001b[49m\n\u001b[1;32m    678\u001b[0m \u001b[43m        \u001b[49m\u001b[43mchunked\u001b[49m\u001b[38;5;241;43m=\u001b[39;49m\u001b[43mchunked\u001b[49m\u001b[43m,\u001b[49m\n\u001b[1;32m    679\u001b[0m \u001b[43m    \u001b[49m\u001b[43m)\u001b[49m\n\u001b[1;32m    681\u001b[0m \u001b[38;5;28;01mexcept\u001b[39;00m (ProtocolError, \u001b[38;5;167;01mOSError\u001b[39;00m) \u001b[38;5;28;01mas\u001b[39;00m err:\n",
      "File \u001b[0;32m~/anaconda3/envs/venv/lib/python3.10/site-packages/urllib3/connectionpool.py:843\u001b[0m, in \u001b[0;36mHTTPConnectionPool.urlopen\u001b[0;34m(self, method, url, body, headers, retries, redirect, assert_same_host, timeout, pool_timeout, release_conn, chunked, body_pos, preload_content, decode_content, **response_kw)\u001b[0m\n\u001b[1;32m    841\u001b[0m     new_e \u001b[38;5;241m=\u001b[39m ProtocolError(\u001b[38;5;124m\"\u001b[39m\u001b[38;5;124mConnection aborted.\u001b[39m\u001b[38;5;124m\"\u001b[39m, new_e)\n\u001b[0;32m--> 843\u001b[0m retries \u001b[38;5;241m=\u001b[39m \u001b[43mretries\u001b[49m\u001b[38;5;241;43m.\u001b[39;49m\u001b[43mincrement\u001b[49m\u001b[43m(\u001b[49m\n\u001b[1;32m    844\u001b[0m \u001b[43m    \u001b[49m\u001b[43mmethod\u001b[49m\u001b[43m,\u001b[49m\u001b[43m \u001b[49m\u001b[43murl\u001b[49m\u001b[43m,\u001b[49m\u001b[43m \u001b[49m\u001b[43merror\u001b[49m\u001b[38;5;241;43m=\u001b[39;49m\u001b[43mnew_e\u001b[49m\u001b[43m,\u001b[49m\u001b[43m \u001b[49m\u001b[43m_pool\u001b[49m\u001b[38;5;241;43m=\u001b[39;49m\u001b[38;5;28;43mself\u001b[39;49m\u001b[43m,\u001b[49m\u001b[43m \u001b[49m\u001b[43m_stacktrace\u001b[49m\u001b[38;5;241;43m=\u001b[39;49m\u001b[43msys\u001b[49m\u001b[38;5;241;43m.\u001b[39;49m\u001b[43mexc_info\u001b[49m\u001b[43m(\u001b[49m\u001b[43m)\u001b[49m\u001b[43m[\u001b[49m\u001b[38;5;241;43m2\u001b[39;49m\u001b[43m]\u001b[49m\n\u001b[1;32m    845\u001b[0m \u001b[43m\u001b[49m\u001b[43m)\u001b[49m\n\u001b[1;32m    846\u001b[0m retries\u001b[38;5;241m.\u001b[39msleep()\n",
      "File \u001b[0;32m~/anaconda3/envs/venv/lib/python3.10/site-packages/urllib3/util/retry.py:474\u001b[0m, in \u001b[0;36mRetry.increment\u001b[0;34m(self, method, url, response, error, _pool, _stacktrace)\u001b[0m\n\u001b[1;32m    473\u001b[0m \u001b[38;5;28;01mif\u001b[39;00m read \u001b[38;5;129;01mis\u001b[39;00m \u001b[38;5;28;01mFalse\u001b[39;00m \u001b[38;5;129;01mor\u001b[39;00m method \u001b[38;5;129;01mis\u001b[39;00m \u001b[38;5;28;01mNone\u001b[39;00m \u001b[38;5;129;01mor\u001b[39;00m \u001b[38;5;129;01mnot\u001b[39;00m \u001b[38;5;28mself\u001b[39m\u001b[38;5;241m.\u001b[39m_is_method_retryable(method):\n\u001b[0;32m--> 474\u001b[0m     \u001b[38;5;28;01mraise\u001b[39;00m \u001b[43mreraise\u001b[49m\u001b[43m(\u001b[49m\u001b[38;5;28;43mtype\u001b[39;49m\u001b[43m(\u001b[49m\u001b[43merror\u001b[49m\u001b[43m)\u001b[49m\u001b[43m,\u001b[49m\u001b[43m \u001b[49m\u001b[43merror\u001b[49m\u001b[43m,\u001b[49m\u001b[43m \u001b[49m\u001b[43m_stacktrace\u001b[49m\u001b[43m)\u001b[49m\n\u001b[1;32m    475\u001b[0m \u001b[38;5;28;01melif\u001b[39;00m read \u001b[38;5;129;01mis\u001b[39;00m \u001b[38;5;129;01mnot\u001b[39;00m \u001b[38;5;28;01mNone\u001b[39;00m:\n",
      "File \u001b[0;32m~/anaconda3/envs/venv/lib/python3.10/site-packages/urllib3/util/util.py:39\u001b[0m, in \u001b[0;36mreraise\u001b[0;34m(tp, value, tb)\u001b[0m\n\u001b[1;32m     38\u001b[0m         \u001b[38;5;28;01mraise\u001b[39;00m value\u001b[38;5;241m.\u001b[39mwith_traceback(tb)\n\u001b[0;32m---> 39\u001b[0m     \u001b[38;5;28;01mraise\u001b[39;00m value\n\u001b[1;32m     40\u001b[0m \u001b[38;5;28;01mfinally\u001b[39;00m:\n",
      "File \u001b[0;32m~/anaconda3/envs/venv/lib/python3.10/site-packages/urllib3/connectionpool.py:789\u001b[0m, in \u001b[0;36mHTTPConnectionPool.urlopen\u001b[0;34m(self, method, url, body, headers, retries, redirect, assert_same_host, timeout, pool_timeout, release_conn, chunked, body_pos, preload_content, decode_content, **response_kw)\u001b[0m\n\u001b[1;32m    788\u001b[0m \u001b[38;5;66;03m# Make the request on the HTTPConnection object\u001b[39;00m\n\u001b[0;32m--> 789\u001b[0m response \u001b[38;5;241m=\u001b[39m \u001b[38;5;28;43mself\u001b[39;49m\u001b[38;5;241;43m.\u001b[39;49m\u001b[43m_make_request\u001b[49m\u001b[43m(\u001b[49m\n\u001b[1;32m    790\u001b[0m \u001b[43m    \u001b[49m\u001b[43mconn\u001b[49m\u001b[43m,\u001b[49m\n\u001b[1;32m    791\u001b[0m \u001b[43m    \u001b[49m\u001b[43mmethod\u001b[49m\u001b[43m,\u001b[49m\n\u001b[1;32m    792\u001b[0m \u001b[43m    \u001b[49m\u001b[43murl\u001b[49m\u001b[43m,\u001b[49m\n\u001b[1;32m    793\u001b[0m \u001b[43m    \u001b[49m\u001b[43mtimeout\u001b[49m\u001b[38;5;241;43m=\u001b[39;49m\u001b[43mtimeout_obj\u001b[49m\u001b[43m,\u001b[49m\n\u001b[1;32m    794\u001b[0m \u001b[43m    \u001b[49m\u001b[43mbody\u001b[49m\u001b[38;5;241;43m=\u001b[39;49m\u001b[43mbody\u001b[49m\u001b[43m,\u001b[49m\n\u001b[1;32m    795\u001b[0m \u001b[43m    \u001b[49m\u001b[43mheaders\u001b[49m\u001b[38;5;241;43m=\u001b[39;49m\u001b[43mheaders\u001b[49m\u001b[43m,\u001b[49m\n\u001b[1;32m    796\u001b[0m \u001b[43m    \u001b[49m\u001b[43mchunked\u001b[49m\u001b[38;5;241;43m=\u001b[39;49m\u001b[43mchunked\u001b[49m\u001b[43m,\u001b[49m\n\u001b[1;32m    797\u001b[0m \u001b[43m    \u001b[49m\u001b[43mretries\u001b[49m\u001b[38;5;241;43m=\u001b[39;49m\u001b[43mretries\u001b[49m\u001b[43m,\u001b[49m\n\u001b[1;32m    798\u001b[0m \u001b[43m    \u001b[49m\u001b[43mresponse_conn\u001b[49m\u001b[38;5;241;43m=\u001b[39;49m\u001b[43mresponse_conn\u001b[49m\u001b[43m,\u001b[49m\n\u001b[1;32m    799\u001b[0m \u001b[43m    \u001b[49m\u001b[43mpreload_content\u001b[49m\u001b[38;5;241;43m=\u001b[39;49m\u001b[43mpreload_content\u001b[49m\u001b[43m,\u001b[49m\n\u001b[1;32m    800\u001b[0m \u001b[43m    \u001b[49m\u001b[43mdecode_content\u001b[49m\u001b[38;5;241;43m=\u001b[39;49m\u001b[43mdecode_content\u001b[49m\u001b[43m,\u001b[49m\n\u001b[1;32m    801\u001b[0m \u001b[43m    \u001b[49m\u001b[38;5;241;43m*\u001b[39;49m\u001b[38;5;241;43m*\u001b[39;49m\u001b[43mresponse_kw\u001b[49m\u001b[43m,\u001b[49m\n\u001b[1;32m    802\u001b[0m \u001b[43m\u001b[49m\u001b[43m)\u001b[49m\n\u001b[1;32m    804\u001b[0m \u001b[38;5;66;03m# Everything went great!\u001b[39;00m\n",
      "File \u001b[0;32m~/anaconda3/envs/venv/lib/python3.10/site-packages/urllib3/connectionpool.py:538\u001b[0m, in \u001b[0;36mHTTPConnectionPool._make_request\u001b[0;34m(self, conn, method, url, body, headers, retries, timeout, chunked, response_conn, preload_content, decode_content, enforce_content_length)\u001b[0m\n\u001b[1;32m    537\u001b[0m \u001b[38;5;28;01mexcept\u001b[39;00m (BaseSSLError, \u001b[38;5;167;01mOSError\u001b[39;00m) \u001b[38;5;28;01mas\u001b[39;00m e:\n\u001b[0;32m--> 538\u001b[0m     \u001b[38;5;28;43mself\u001b[39;49m\u001b[38;5;241;43m.\u001b[39;49m\u001b[43m_raise_timeout\u001b[49m\u001b[43m(\u001b[49m\u001b[43merr\u001b[49m\u001b[38;5;241;43m=\u001b[39;49m\u001b[43me\u001b[49m\u001b[43m,\u001b[49m\u001b[43m \u001b[49m\u001b[43murl\u001b[49m\u001b[38;5;241;43m=\u001b[39;49m\u001b[43murl\u001b[49m\u001b[43m,\u001b[49m\u001b[43m \u001b[49m\u001b[43mtimeout_value\u001b[49m\u001b[38;5;241;43m=\u001b[39;49m\u001b[43mread_timeout\u001b[49m\u001b[43m)\u001b[49m\n\u001b[1;32m    539\u001b[0m     \u001b[38;5;28;01mraise\u001b[39;00m\n",
      "File \u001b[0;32m~/anaconda3/envs/venv/lib/python3.10/site-packages/urllib3/connectionpool.py:369\u001b[0m, in \u001b[0;36mHTTPConnectionPool._raise_timeout\u001b[0;34m(self, err, url, timeout_value)\u001b[0m\n\u001b[1;32m    368\u001b[0m \u001b[38;5;28;01mif\u001b[39;00m \u001b[38;5;28misinstance\u001b[39m(err, SocketTimeout):\n\u001b[0;32m--> 369\u001b[0m     \u001b[38;5;28;01mraise\u001b[39;00m ReadTimeoutError(\n\u001b[1;32m    370\u001b[0m         \u001b[38;5;28mself\u001b[39m, url, \u001b[38;5;124mf\u001b[39m\u001b[38;5;124m\"\u001b[39m\u001b[38;5;124mRead timed out. (read timeout=\u001b[39m\u001b[38;5;132;01m{\u001b[39;00mtimeout_value\u001b[38;5;132;01m}\u001b[39;00m\u001b[38;5;124m)\u001b[39m\u001b[38;5;124m\"\u001b[39m\n\u001b[1;32m    371\u001b[0m     ) \u001b[38;5;28;01mfrom\u001b[39;00m \u001b[38;5;21;01merr\u001b[39;00m\n\u001b[1;32m    373\u001b[0m \u001b[38;5;66;03m# See the above comment about EAGAIN in Python 3.\u001b[39;00m\n",
      "\u001b[0;31mReadTimeoutError\u001b[0m: HTTPSConnectionPool(host='oauth2.googleapis.com', port=443): Read timed out. (read timeout=120)",
      "\nDuring handling of the above exception, another exception occurred:\n",
      "\u001b[0;31mReadTimeout\u001b[0m                               Traceback (most recent call last)",
      "File \u001b[0;32m~/anaconda3/envs/venv/lib/python3.10/site-packages/google/auth/transport/requests.py:186\u001b[0m, in \u001b[0;36mRequest.__call__\u001b[0;34m(self, url, method, body, headers, timeout, **kwargs)\u001b[0m\n\u001b[1;32m    185\u001b[0m _LOGGER\u001b[38;5;241m.\u001b[39mdebug(\u001b[38;5;124m\"\u001b[39m\u001b[38;5;124mMaking request: \u001b[39m\u001b[38;5;132;01m%s\u001b[39;00m\u001b[38;5;124m \u001b[39m\u001b[38;5;132;01m%s\u001b[39;00m\u001b[38;5;124m\"\u001b[39m, method, url)\n\u001b[0;32m--> 186\u001b[0m response \u001b[38;5;241m=\u001b[39m \u001b[38;5;28;43mself\u001b[39;49m\u001b[38;5;241;43m.\u001b[39;49m\u001b[43msession\u001b[49m\u001b[38;5;241;43m.\u001b[39;49m\u001b[43mrequest\u001b[49m\u001b[43m(\u001b[49m\n\u001b[1;32m    187\u001b[0m \u001b[43m    \u001b[49m\u001b[43mmethod\u001b[49m\u001b[43m,\u001b[49m\u001b[43m \u001b[49m\u001b[43murl\u001b[49m\u001b[43m,\u001b[49m\u001b[43m \u001b[49m\u001b[43mdata\u001b[49m\u001b[38;5;241;43m=\u001b[39;49m\u001b[43mbody\u001b[49m\u001b[43m,\u001b[49m\u001b[43m \u001b[49m\u001b[43mheaders\u001b[49m\u001b[38;5;241;43m=\u001b[39;49m\u001b[43mheaders\u001b[49m\u001b[43m,\u001b[49m\u001b[43m \u001b[49m\u001b[43mtimeout\u001b[49m\u001b[38;5;241;43m=\u001b[39;49m\u001b[43mtimeout\u001b[49m\u001b[43m,\u001b[49m\u001b[43m \u001b[49m\u001b[38;5;241;43m*\u001b[39;49m\u001b[38;5;241;43m*\u001b[39;49m\u001b[43mkwargs\u001b[49m\n\u001b[1;32m    188\u001b[0m \u001b[43m\u001b[49m\u001b[43m)\u001b[49m\n\u001b[1;32m    189\u001b[0m \u001b[38;5;28;01mreturn\u001b[39;00m _Response(response)\n",
      "File \u001b[0;32m~/anaconda3/envs/venv/lib/python3.10/site-packages/requests/sessions.py:589\u001b[0m, in \u001b[0;36mSession.request\u001b[0;34m(self, method, url, params, data, headers, cookies, files, auth, timeout, allow_redirects, proxies, hooks, stream, verify, cert, json)\u001b[0m\n\u001b[1;32m    588\u001b[0m send_kwargs\u001b[38;5;241m.\u001b[39mupdate(settings)\n\u001b[0;32m--> 589\u001b[0m resp \u001b[38;5;241m=\u001b[39m \u001b[38;5;28;43mself\u001b[39;49m\u001b[38;5;241;43m.\u001b[39;49m\u001b[43msend\u001b[49m\u001b[43m(\u001b[49m\u001b[43mprep\u001b[49m\u001b[43m,\u001b[49m\u001b[43m \u001b[49m\u001b[38;5;241;43m*\u001b[39;49m\u001b[38;5;241;43m*\u001b[39;49m\u001b[43msend_kwargs\u001b[49m\u001b[43m)\u001b[49m\n\u001b[1;32m    591\u001b[0m \u001b[38;5;28;01mreturn\u001b[39;00m resp\n",
      "File \u001b[0;32m~/anaconda3/envs/venv/lib/python3.10/site-packages/requests/sessions.py:703\u001b[0m, in \u001b[0;36mSession.send\u001b[0;34m(self, request, **kwargs)\u001b[0m\n\u001b[1;32m    702\u001b[0m \u001b[38;5;66;03m# Send the request\u001b[39;00m\n\u001b[0;32m--> 703\u001b[0m r \u001b[38;5;241m=\u001b[39m \u001b[43madapter\u001b[49m\u001b[38;5;241;43m.\u001b[39;49m\u001b[43msend\u001b[49m\u001b[43m(\u001b[49m\u001b[43mrequest\u001b[49m\u001b[43m,\u001b[49m\u001b[43m \u001b[49m\u001b[38;5;241;43m*\u001b[39;49m\u001b[38;5;241;43m*\u001b[39;49m\u001b[43mkwargs\u001b[49m\u001b[43m)\u001b[49m\n\u001b[1;32m    705\u001b[0m \u001b[38;5;66;03m# Total elapsed time of the request (approximately)\u001b[39;00m\n",
      "File \u001b[0;32m~/anaconda3/envs/venv/lib/python3.10/site-packages/requests/adapters.py:713\u001b[0m, in \u001b[0;36mHTTPAdapter.send\u001b[0;34m(self, request, stream, timeout, verify, cert, proxies)\u001b[0m\n\u001b[1;32m    712\u001b[0m \u001b[38;5;28;01melif\u001b[39;00m \u001b[38;5;28misinstance\u001b[39m(e, ReadTimeoutError):\n\u001b[0;32m--> 713\u001b[0m     \u001b[38;5;28;01mraise\u001b[39;00m ReadTimeout(e, request\u001b[38;5;241m=\u001b[39mrequest)\n\u001b[1;32m    714\u001b[0m \u001b[38;5;28;01melif\u001b[39;00m \u001b[38;5;28misinstance\u001b[39m(e, _InvalidHeader):\n",
      "\u001b[0;31mReadTimeout\u001b[0m: HTTPSConnectionPool(host='oauth2.googleapis.com', port=443): Read timed out. (read timeout=120)",
      "\nThe above exception was the direct cause of the following exception:\n",
      "\u001b[0;31mTransportError\u001b[0m                            Traceback (most recent call last)",
      "Cell \u001b[0;32mIn[12], line 59\u001b[0m\n\u001b[1;32m     57\u001b[0m crypto_data \u001b[38;5;241m=\u001b[39m fetch_crypto_data()\n\u001b[1;32m     58\u001b[0m \u001b[38;5;28;01mif\u001b[39;00m crypto_data:\n\u001b[0;32m---> 59\u001b[0m     \u001b[43mupdate_sheet\u001b[49m\u001b[43m(\u001b[49m\u001b[43mcrypto_data\u001b[49m\u001b[43m)\u001b[49m\n\u001b[1;32m     60\u001b[0m \u001b[38;5;28;01melse\u001b[39;00m:\n\u001b[1;32m     61\u001b[0m     \u001b[38;5;28mprint\u001b[39m(\u001b[38;5;124m\"\u001b[39m\u001b[38;5;124mNo data fetched, retrying in 5 minutes...\u001b[39m\u001b[38;5;124m\"\u001b[39m)\n",
      "Cell \u001b[0;32mIn[12], line 49\u001b[0m, in \u001b[0;36mupdate_sheet\u001b[0;34m(data)\u001b[0m\n\u001b[1;32m     39\u001b[0m     rows\u001b[38;5;241m.\u001b[39mappend([\n\u001b[1;32m     40\u001b[0m         i,\n\u001b[1;32m     41\u001b[0m         coin\u001b[38;5;241m.\u001b[39mget(\u001b[38;5;124m\"\u001b[39m\u001b[38;5;124mname\u001b[39m\u001b[38;5;124m\"\u001b[39m),\n\u001b[0;32m   (...)\u001b[0m\n\u001b[1;32m     45\u001b[0m         coin\u001b[38;5;241m.\u001b[39mget(\u001b[38;5;124m\"\u001b[39m\u001b[38;5;124mprice_change_percentage_24h\u001b[39m\u001b[38;5;124m\"\u001b[39m),\n\u001b[1;32m     46\u001b[0m     ])\n\u001b[1;32m     48\u001b[0m \u001b[38;5;66;03m# Clear the sheet and update it with new data\u001b[39;00m\n\u001b[0;32m---> 49\u001b[0m \u001b[43mworksheet\u001b[49m\u001b[38;5;241;43m.\u001b[39;49m\u001b[43mclear\u001b[49m\u001b[43m(\u001b[49m\u001b[43m)\u001b[49m\n\u001b[1;32m     50\u001b[0m worksheet\u001b[38;5;241m.\u001b[39mupdate(\u001b[38;5;124m\"\u001b[39m\u001b[38;5;124mA1\u001b[39m\u001b[38;5;124m\"\u001b[39m, rows)\n\u001b[1;32m     51\u001b[0m \u001b[38;5;28mprint\u001b[39m(\u001b[38;5;124m\"\u001b[39m\u001b[38;5;124mSheet updated successfully!\u001b[39m\u001b[38;5;124m\"\u001b[39m)\n",
      "File \u001b[0;32m~/anaconda3/envs/venv/lib/python3.10/site-packages/gspread/worksheet.py:2205\u001b[0m, in \u001b[0;36mWorksheet.clear\u001b[0;34m(self)\u001b[0m\n\u001b[1;32m   2203\u001b[0m \u001b[38;5;28;01mdef\u001b[39;00m \u001b[38;5;21mclear\u001b[39m(\u001b[38;5;28mself\u001b[39m) \u001b[38;5;241m-\u001b[39m\u001b[38;5;241m>\u001b[39m JSONResponse:\n\u001b[1;32m   2204\u001b[0m \u001b[38;5;250m    \u001b[39m\u001b[38;5;124;03m\"\"\"Clears all cells in the worksheet.\"\"\"\u001b[39;00m\n\u001b[0;32m-> 2205\u001b[0m     \u001b[38;5;28;01mreturn\u001b[39;00m \u001b[38;5;28;43mself\u001b[39;49m\u001b[38;5;241;43m.\u001b[39;49m\u001b[43mclient\u001b[49m\u001b[38;5;241;43m.\u001b[39;49m\u001b[43mvalues_clear\u001b[49m\u001b[43m(\u001b[49m\n\u001b[1;32m   2206\u001b[0m \u001b[43m        \u001b[49m\u001b[38;5;28;43mself\u001b[39;49m\u001b[38;5;241;43m.\u001b[39;49m\u001b[43mspreadsheet_id\u001b[49m\u001b[43m,\u001b[49m\u001b[43m \u001b[49m\u001b[43mabsolute_range_name\u001b[49m\u001b[43m(\u001b[49m\u001b[38;5;28;43mself\u001b[39;49m\u001b[38;5;241;43m.\u001b[39;49m\u001b[43mtitle\u001b[49m\u001b[43m)\u001b[49m\n\u001b[1;32m   2207\u001b[0m \u001b[43m    \u001b[49m\u001b[43m)\u001b[49m\n",
      "File \u001b[0;32m~/anaconda3/envs/venv/lib/python3.10/site-packages/gspread/http_client.py:204\u001b[0m, in \u001b[0;36mHTTPClient.values_clear\u001b[0;34m(self, id, range)\u001b[0m\n\u001b[1;32m    195\u001b[0m \u001b[38;5;250m\u001b[39m\u001b[38;5;124;03m\"\"\"Lower-level method that directly calls `spreadsheets/<ID>/values:clear <https://developers.google.com/sheets/api/reference/rest/v4/spreadsheets.values/clear>`_.\u001b[39;00m\n\u001b[1;32m    196\u001b[0m \n\u001b[1;32m    197\u001b[0m \u001b[38;5;124;03m:param str range: The `A1 notation <https://developers.google.com/sheets/api/guides/concepts#a1_notation>`_ of the values to clear.\u001b[39;00m\n\u001b[0;32m   (...)\u001b[0m\n\u001b[1;32m    201\u001b[0m \u001b[38;5;124;03m.. versionadded:: 3.0\u001b[39;00m\n\u001b[1;32m    202\u001b[0m \u001b[38;5;124;03m\"\"\"\u001b[39;00m\n\u001b[1;32m    203\u001b[0m url \u001b[38;5;241m=\u001b[39m SPREADSHEET_VALUES_CLEAR_URL \u001b[38;5;241m%\u001b[39m (\u001b[38;5;28mid\u001b[39m, quote(\u001b[38;5;28mrange\u001b[39m))\n\u001b[0;32m--> 204\u001b[0m r \u001b[38;5;241m=\u001b[39m \u001b[38;5;28;43mself\u001b[39;49m\u001b[38;5;241;43m.\u001b[39;49m\u001b[43mrequest\u001b[49m\u001b[43m(\u001b[49m\u001b[38;5;124;43m\"\u001b[39;49m\u001b[38;5;124;43mpost\u001b[39;49m\u001b[38;5;124;43m\"\u001b[39;49m\u001b[43m,\u001b[49m\u001b[43m \u001b[49m\u001b[43murl\u001b[49m\u001b[43m)\u001b[49m\n\u001b[1;32m    205\u001b[0m \u001b[38;5;28;01mreturn\u001b[39;00m r\u001b[38;5;241m.\u001b[39mjson()\n",
      "File \u001b[0;32m~/anaconda3/envs/venv/lib/python3.10/site-packages/gspread/http_client.py:114\u001b[0m, in \u001b[0;36mHTTPClient.request\u001b[0;34m(self, method, endpoint, params, data, json, files, headers)\u001b[0m\n\u001b[1;32m    104\u001b[0m \u001b[38;5;28;01mdef\u001b[39;00m \u001b[38;5;21mrequest\u001b[39m(\n\u001b[1;32m    105\u001b[0m     \u001b[38;5;28mself\u001b[39m,\n\u001b[1;32m    106\u001b[0m     method: \u001b[38;5;28mstr\u001b[39m,\n\u001b[0;32m   (...)\u001b[0m\n\u001b[1;32m    112\u001b[0m     headers: Optional[MutableMapping[\u001b[38;5;28mstr\u001b[39m, \u001b[38;5;28mstr\u001b[39m]] \u001b[38;5;241m=\u001b[39m \u001b[38;5;28;01mNone\u001b[39;00m,\n\u001b[1;32m    113\u001b[0m ) \u001b[38;5;241m-\u001b[39m\u001b[38;5;241m>\u001b[39m Response:\n\u001b[0;32m--> 114\u001b[0m     response \u001b[38;5;241m=\u001b[39m \u001b[38;5;28;43mself\u001b[39;49m\u001b[38;5;241;43m.\u001b[39;49m\u001b[43msession\u001b[49m\u001b[38;5;241;43m.\u001b[39;49m\u001b[43mrequest\u001b[49m\u001b[43m(\u001b[49m\n\u001b[1;32m    115\u001b[0m \u001b[43m        \u001b[49m\u001b[43mmethod\u001b[49m\u001b[38;5;241;43m=\u001b[39;49m\u001b[43mmethod\u001b[49m\u001b[43m,\u001b[49m\n\u001b[1;32m    116\u001b[0m \u001b[43m        \u001b[49m\u001b[43murl\u001b[49m\u001b[38;5;241;43m=\u001b[39;49m\u001b[43mendpoint\u001b[49m\u001b[43m,\u001b[49m\n\u001b[1;32m    117\u001b[0m \u001b[43m        \u001b[49m\u001b[43mjson\u001b[49m\u001b[38;5;241;43m=\u001b[39;49m\u001b[43mjson\u001b[49m\u001b[43m,\u001b[49m\n\u001b[1;32m    118\u001b[0m \u001b[43m        \u001b[49m\u001b[43mparams\u001b[49m\u001b[38;5;241;43m=\u001b[39;49m\u001b[43mparams\u001b[49m\u001b[43m,\u001b[49m\n\u001b[1;32m    119\u001b[0m \u001b[43m        \u001b[49m\u001b[43mdata\u001b[49m\u001b[38;5;241;43m=\u001b[39;49m\u001b[43mdata\u001b[49m\u001b[43m,\u001b[49m\n\u001b[1;32m    120\u001b[0m \u001b[43m        \u001b[49m\u001b[43mfiles\u001b[49m\u001b[38;5;241;43m=\u001b[39;49m\u001b[43mfiles\u001b[49m\u001b[43m,\u001b[49m\n\u001b[1;32m    121\u001b[0m \u001b[43m        \u001b[49m\u001b[43mheaders\u001b[49m\u001b[38;5;241;43m=\u001b[39;49m\u001b[43mheaders\u001b[49m\u001b[43m,\u001b[49m\n\u001b[1;32m    122\u001b[0m \u001b[43m        \u001b[49m\u001b[43mtimeout\u001b[49m\u001b[38;5;241;43m=\u001b[39;49m\u001b[38;5;28;43mself\u001b[39;49m\u001b[38;5;241;43m.\u001b[39;49m\u001b[43mtimeout\u001b[49m\u001b[43m,\u001b[49m\n\u001b[1;32m    123\u001b[0m \u001b[43m    \u001b[49m\u001b[43m)\u001b[49m\n\u001b[1;32m    125\u001b[0m     \u001b[38;5;28;01mif\u001b[39;00m response\u001b[38;5;241m.\u001b[39mok:\n\u001b[1;32m    126\u001b[0m         \u001b[38;5;28;01mreturn\u001b[39;00m response\n",
      "File \u001b[0;32m~/anaconda3/envs/venv/lib/python3.10/site-packages/google/auth/transport/requests.py:533\u001b[0m, in \u001b[0;36mAuthorizedSession.request\u001b[0;34m(self, method, url, data, headers, max_allowed_time, timeout, **kwargs)\u001b[0m\n\u001b[1;32m    530\u001b[0m remaining_time \u001b[38;5;241m=\u001b[39m max_allowed_time\n\u001b[1;32m    532\u001b[0m \u001b[38;5;28;01mwith\u001b[39;00m TimeoutGuard(remaining_time) \u001b[38;5;28;01mas\u001b[39;00m guard:\n\u001b[0;32m--> 533\u001b[0m     \u001b[38;5;28;43mself\u001b[39;49m\u001b[38;5;241;43m.\u001b[39;49m\u001b[43mcredentials\u001b[49m\u001b[38;5;241;43m.\u001b[39;49m\u001b[43mbefore_request\u001b[49m\u001b[43m(\u001b[49m\u001b[43mauth_request\u001b[49m\u001b[43m,\u001b[49m\u001b[43m \u001b[49m\u001b[43mmethod\u001b[49m\u001b[43m,\u001b[49m\u001b[43m \u001b[49m\u001b[43murl\u001b[49m\u001b[43m,\u001b[49m\u001b[43m \u001b[49m\u001b[43mrequest_headers\u001b[49m\u001b[43m)\u001b[49m\n\u001b[1;32m    534\u001b[0m remaining_time \u001b[38;5;241m=\u001b[39m guard\u001b[38;5;241m.\u001b[39mremaining_timeout\n\u001b[1;32m    536\u001b[0m \u001b[38;5;28;01mwith\u001b[39;00m TimeoutGuard(remaining_time) \u001b[38;5;28;01mas\u001b[39;00m guard:\n",
      "File \u001b[0;32m~/anaconda3/envs/venv/lib/python3.10/site-packages/google/auth/credentials.py:239\u001b[0m, in \u001b[0;36mCredentials.before_request\u001b[0;34m(self, request, method, url, headers)\u001b[0m\n\u001b[1;32m    237\u001b[0m     \u001b[38;5;28mself\u001b[39m\u001b[38;5;241m.\u001b[39m_non_blocking_refresh(request)\n\u001b[1;32m    238\u001b[0m \u001b[38;5;28;01melse\u001b[39;00m:\n\u001b[0;32m--> 239\u001b[0m     \u001b[38;5;28;43mself\u001b[39;49m\u001b[38;5;241;43m.\u001b[39;49m\u001b[43m_blocking_refresh\u001b[49m\u001b[43m(\u001b[49m\u001b[43mrequest\u001b[49m\u001b[43m)\u001b[49m\n\u001b[1;32m    241\u001b[0m metrics\u001b[38;5;241m.\u001b[39madd_metric_header(headers, \u001b[38;5;28mself\u001b[39m\u001b[38;5;241m.\u001b[39m_metric_header_for_usage())\n\u001b[1;32m    242\u001b[0m \u001b[38;5;28mself\u001b[39m\u001b[38;5;241m.\u001b[39mapply(headers)\n",
      "File \u001b[0;32m~/anaconda3/envs/venv/lib/python3.10/site-packages/google/auth/credentials.py:202\u001b[0m, in \u001b[0;36mCredentials._blocking_refresh\u001b[0;34m(self, request)\u001b[0m\n\u001b[1;32m    200\u001b[0m \u001b[38;5;28;01mdef\u001b[39;00m \u001b[38;5;21m_blocking_refresh\u001b[39m(\u001b[38;5;28mself\u001b[39m, request):\n\u001b[1;32m    201\u001b[0m     \u001b[38;5;28;01mif\u001b[39;00m \u001b[38;5;129;01mnot\u001b[39;00m \u001b[38;5;28mself\u001b[39m\u001b[38;5;241m.\u001b[39mvalid:\n\u001b[0;32m--> 202\u001b[0m         \u001b[38;5;28;43mself\u001b[39;49m\u001b[38;5;241;43m.\u001b[39;49m\u001b[43mrefresh\u001b[49m\u001b[43m(\u001b[49m\u001b[43mrequest\u001b[49m\u001b[43m)\u001b[49m\n",
      "File \u001b[0;32m~/anaconda3/envs/venv/lib/python3.10/site-packages/google/oauth2/service_account.py:448\u001b[0m, in \u001b[0;36mCredentials.refresh\u001b[0;34m(self, request)\u001b[0m\n\u001b[1;32m    446\u001b[0m \u001b[38;5;28;01melse\u001b[39;00m:\n\u001b[1;32m    447\u001b[0m     assertion \u001b[38;5;241m=\u001b[39m \u001b[38;5;28mself\u001b[39m\u001b[38;5;241m.\u001b[39m_make_authorization_grant_assertion()\n\u001b[0;32m--> 448\u001b[0m     access_token, expiry, _ \u001b[38;5;241m=\u001b[39m \u001b[43m_client\u001b[49m\u001b[38;5;241;43m.\u001b[39;49m\u001b[43mjwt_grant\u001b[49m\u001b[43m(\u001b[49m\n\u001b[1;32m    449\u001b[0m \u001b[43m        \u001b[49m\u001b[43mrequest\u001b[49m\u001b[43m,\u001b[49m\u001b[43m \u001b[49m\u001b[38;5;28;43mself\u001b[39;49m\u001b[38;5;241;43m.\u001b[39;49m\u001b[43m_token_uri\u001b[49m\u001b[43m,\u001b[49m\u001b[43m \u001b[49m\u001b[43massertion\u001b[49m\n\u001b[1;32m    450\u001b[0m \u001b[43m    \u001b[49m\u001b[43m)\u001b[49m\n\u001b[1;32m    451\u001b[0m     \u001b[38;5;28mself\u001b[39m\u001b[38;5;241m.\u001b[39mtoken \u001b[38;5;241m=\u001b[39m access_token\n\u001b[1;32m    452\u001b[0m     \u001b[38;5;28mself\u001b[39m\u001b[38;5;241m.\u001b[39mexpiry \u001b[38;5;241m=\u001b[39m expiry\n",
      "File \u001b[0;32m~/anaconda3/envs/venv/lib/python3.10/site-packages/google/oauth2/_client.py:299\u001b[0m, in \u001b[0;36mjwt_grant\u001b[0;34m(request, token_uri, assertion, can_retry)\u001b[0m\n\u001b[1;32m    275\u001b[0m \u001b[38;5;250m\u001b[39m\u001b[38;5;124;03m\"\"\"Implements the JWT Profile for OAuth 2.0 Authorization Grants.\u001b[39;00m\n\u001b[1;32m    276\u001b[0m \n\u001b[1;32m    277\u001b[0m \u001b[38;5;124;03mFor more details, see `rfc7523 section 4`_.\u001b[39;00m\n\u001b[0;32m   (...)\u001b[0m\n\u001b[1;32m    295\u001b[0m \u001b[38;5;124;03m.. _rfc7523 section 4: https://tools.ietf.org/html/rfc7523#section-4\u001b[39;00m\n\u001b[1;32m    296\u001b[0m \u001b[38;5;124;03m\"\"\"\u001b[39;00m\n\u001b[1;32m    297\u001b[0m body \u001b[38;5;241m=\u001b[39m {\u001b[38;5;124m\"\u001b[39m\u001b[38;5;124massertion\u001b[39m\u001b[38;5;124m\"\u001b[39m: assertion, \u001b[38;5;124m\"\u001b[39m\u001b[38;5;124mgrant_type\u001b[39m\u001b[38;5;124m\"\u001b[39m: _JWT_GRANT_TYPE}\n\u001b[0;32m--> 299\u001b[0m response_data \u001b[38;5;241m=\u001b[39m \u001b[43m_token_endpoint_request\u001b[49m\u001b[43m(\u001b[49m\n\u001b[1;32m    300\u001b[0m \u001b[43m    \u001b[49m\u001b[43mrequest\u001b[49m\u001b[43m,\u001b[49m\n\u001b[1;32m    301\u001b[0m \u001b[43m    \u001b[49m\u001b[43mtoken_uri\u001b[49m\u001b[43m,\u001b[49m\n\u001b[1;32m    302\u001b[0m \u001b[43m    \u001b[49m\u001b[43mbody\u001b[49m\u001b[43m,\u001b[49m\n\u001b[1;32m    303\u001b[0m \u001b[43m    \u001b[49m\u001b[43mcan_retry\u001b[49m\u001b[38;5;241;43m=\u001b[39;49m\u001b[43mcan_retry\u001b[49m\u001b[43m,\u001b[49m\n\u001b[1;32m    304\u001b[0m \u001b[43m    \u001b[49m\u001b[43mheaders\u001b[49m\u001b[38;5;241;43m=\u001b[39;49m\u001b[43m{\u001b[49m\n\u001b[1;32m    305\u001b[0m \u001b[43m        \u001b[49m\u001b[43mmetrics\u001b[49m\u001b[38;5;241;43m.\u001b[39;49m\u001b[43mAPI_CLIENT_HEADER\u001b[49m\u001b[43m:\u001b[49m\u001b[43m \u001b[49m\u001b[43mmetrics\u001b[49m\u001b[38;5;241;43m.\u001b[39;49m\u001b[43mtoken_request_access_token_sa_assertion\u001b[49m\u001b[43m(\u001b[49m\u001b[43m)\u001b[49m\n\u001b[1;32m    306\u001b[0m \u001b[43m    \u001b[49m\u001b[43m}\u001b[49m\u001b[43m,\u001b[49m\n\u001b[1;32m    307\u001b[0m \u001b[43m\u001b[49m\u001b[43m)\u001b[49m\n\u001b[1;32m    309\u001b[0m \u001b[38;5;28;01mtry\u001b[39;00m:\n\u001b[1;32m    310\u001b[0m     access_token \u001b[38;5;241m=\u001b[39m response_data[\u001b[38;5;124m\"\u001b[39m\u001b[38;5;124maccess_token\u001b[39m\u001b[38;5;124m\"\u001b[39m]\n",
      "File \u001b[0;32m~/anaconda3/envs/venv/lib/python3.10/site-packages/google/oauth2/_client.py:259\u001b[0m, in \u001b[0;36m_token_endpoint_request\u001b[0;34m(request, token_uri, body, access_token, use_json, can_retry, headers, **kwargs)\u001b[0m\n\u001b[1;32m    220\u001b[0m \u001b[38;5;28;01mdef\u001b[39;00m \u001b[38;5;21m_token_endpoint_request\u001b[39m(\n\u001b[1;32m    221\u001b[0m     request,\n\u001b[1;32m    222\u001b[0m     token_uri,\n\u001b[0;32m   (...)\u001b[0m\n\u001b[1;32m    228\u001b[0m     \u001b[38;5;241m*\u001b[39m\u001b[38;5;241m*\u001b[39mkwargs\n\u001b[1;32m    229\u001b[0m ):\n\u001b[1;32m    230\u001b[0m \u001b[38;5;250m    \u001b[39m\u001b[38;5;124;03m\"\"\"Makes a request to the OAuth 2.0 authorization server's token endpoint.\u001b[39;00m\n\u001b[1;32m    231\u001b[0m \n\u001b[1;32m    232\u001b[0m \u001b[38;5;124;03m    Args:\u001b[39;00m\n\u001b[0;32m   (...)\u001b[0m\n\u001b[1;32m    256\u001b[0m \u001b[38;5;124;03m            an error.\u001b[39;00m\n\u001b[1;32m    257\u001b[0m \u001b[38;5;124;03m    \"\"\"\u001b[39;00m\n\u001b[0;32m--> 259\u001b[0m     response_status_ok, response_data, retryable_error \u001b[38;5;241m=\u001b[39m \u001b[43m_token_endpoint_request_no_throw\u001b[49m\u001b[43m(\u001b[49m\n\u001b[1;32m    260\u001b[0m \u001b[43m        \u001b[49m\u001b[43mrequest\u001b[49m\u001b[43m,\u001b[49m\n\u001b[1;32m    261\u001b[0m \u001b[43m        \u001b[49m\u001b[43mtoken_uri\u001b[49m\u001b[43m,\u001b[49m\n\u001b[1;32m    262\u001b[0m \u001b[43m        \u001b[49m\u001b[43mbody\u001b[49m\u001b[43m,\u001b[49m\n\u001b[1;32m    263\u001b[0m \u001b[43m        \u001b[49m\u001b[43maccess_token\u001b[49m\u001b[38;5;241;43m=\u001b[39;49m\u001b[43maccess_token\u001b[49m\u001b[43m,\u001b[49m\n\u001b[1;32m    264\u001b[0m \u001b[43m        \u001b[49m\u001b[43muse_json\u001b[49m\u001b[38;5;241;43m=\u001b[39;49m\u001b[43muse_json\u001b[49m\u001b[43m,\u001b[49m\n\u001b[1;32m    265\u001b[0m \u001b[43m        \u001b[49m\u001b[43mcan_retry\u001b[49m\u001b[38;5;241;43m=\u001b[39;49m\u001b[43mcan_retry\u001b[49m\u001b[43m,\u001b[49m\n\u001b[1;32m    266\u001b[0m \u001b[43m        \u001b[49m\u001b[43mheaders\u001b[49m\u001b[38;5;241;43m=\u001b[39;49m\u001b[43mheaders\u001b[49m\u001b[43m,\u001b[49m\n\u001b[1;32m    267\u001b[0m \u001b[43m        \u001b[49m\u001b[38;5;241;43m*\u001b[39;49m\u001b[38;5;241;43m*\u001b[39;49m\u001b[43mkwargs\u001b[49m\n\u001b[1;32m    268\u001b[0m \u001b[43m    \u001b[49m\u001b[43m)\u001b[49m\n\u001b[1;32m    269\u001b[0m     \u001b[38;5;28;01mif\u001b[39;00m \u001b[38;5;129;01mnot\u001b[39;00m response_status_ok:\n\u001b[1;32m    270\u001b[0m         _handle_error_response(response_data, retryable_error)\n",
      "File \u001b[0;32m~/anaconda3/envs/venv/lib/python3.10/site-packages/google/oauth2/_client.py:192\u001b[0m, in \u001b[0;36m_token_endpoint_request_no_throw\u001b[0;34m(request, token_uri, body, access_token, use_json, can_retry, headers, **kwargs)\u001b[0m\n\u001b[1;32m    190\u001b[0m retries \u001b[38;5;241m=\u001b[39m _exponential_backoff\u001b[38;5;241m.\u001b[39mExponentialBackoff()\n\u001b[1;32m    191\u001b[0m \u001b[38;5;28;01mfor\u001b[39;00m _ \u001b[38;5;129;01min\u001b[39;00m retries:\n\u001b[0;32m--> 192\u001b[0m     response \u001b[38;5;241m=\u001b[39m \u001b[43mrequest\u001b[49m\u001b[43m(\u001b[49m\n\u001b[1;32m    193\u001b[0m \u001b[43m        \u001b[49m\u001b[43mmethod\u001b[49m\u001b[38;5;241;43m=\u001b[39;49m\u001b[38;5;124;43m\"\u001b[39;49m\u001b[38;5;124;43mPOST\u001b[39;49m\u001b[38;5;124;43m\"\u001b[39;49m\u001b[43m,\u001b[49m\u001b[43m \u001b[49m\u001b[43murl\u001b[49m\u001b[38;5;241;43m=\u001b[39;49m\u001b[43mtoken_uri\u001b[49m\u001b[43m,\u001b[49m\u001b[43m \u001b[49m\u001b[43mheaders\u001b[49m\u001b[38;5;241;43m=\u001b[39;49m\u001b[43mheaders_to_use\u001b[49m\u001b[43m,\u001b[49m\u001b[43m \u001b[49m\u001b[43mbody\u001b[49m\u001b[38;5;241;43m=\u001b[39;49m\u001b[43mbody\u001b[49m\u001b[43m,\u001b[49m\u001b[43m \u001b[49m\u001b[38;5;241;43m*\u001b[39;49m\u001b[38;5;241;43m*\u001b[39;49m\u001b[43mkwargs\u001b[49m\n\u001b[1;32m    194\u001b[0m \u001b[43m    \u001b[49m\u001b[43m)\u001b[49m\n\u001b[1;32m    195\u001b[0m     response_body \u001b[38;5;241m=\u001b[39m (\n\u001b[1;32m    196\u001b[0m         response\u001b[38;5;241m.\u001b[39mdata\u001b[38;5;241m.\u001b[39mdecode(\u001b[38;5;124m\"\u001b[39m\u001b[38;5;124mutf-8\u001b[39m\u001b[38;5;124m\"\u001b[39m)\n\u001b[1;32m    197\u001b[0m         \u001b[38;5;28;01mif\u001b[39;00m \u001b[38;5;28mhasattr\u001b[39m(response\u001b[38;5;241m.\u001b[39mdata, \u001b[38;5;124m\"\u001b[39m\u001b[38;5;124mdecode\u001b[39m\u001b[38;5;124m\"\u001b[39m)\n\u001b[1;32m    198\u001b[0m         \u001b[38;5;28;01melse\u001b[39;00m response\u001b[38;5;241m.\u001b[39mdata\n\u001b[1;32m    199\u001b[0m     )\n\u001b[1;32m    201\u001b[0m     \u001b[38;5;28;01mtry\u001b[39;00m:\n\u001b[1;32m    202\u001b[0m         \u001b[38;5;66;03m# response_body should be a JSON\u001b[39;00m\n",
      "File \u001b[0;32m~/anaconda3/envs/venv/lib/python3.10/site-packages/google/auth/transport/requests.py:192\u001b[0m, in \u001b[0;36mRequest.__call__\u001b[0;34m(self, url, method, body, headers, timeout, **kwargs)\u001b[0m\n\u001b[1;32m    190\u001b[0m \u001b[38;5;28;01mexcept\u001b[39;00m requests\u001b[38;5;241m.\u001b[39mexceptions\u001b[38;5;241m.\u001b[39mRequestException \u001b[38;5;28;01mas\u001b[39;00m caught_exc:\n\u001b[1;32m    191\u001b[0m     new_exc \u001b[38;5;241m=\u001b[39m exceptions\u001b[38;5;241m.\u001b[39mTransportError(caught_exc)\n\u001b[0;32m--> 192\u001b[0m     \u001b[38;5;28;01mraise\u001b[39;00m new_exc \u001b[38;5;28;01mfrom\u001b[39;00m \u001b[38;5;21;01mcaught_exc\u001b[39;00m\n",
      "\u001b[0;31mTransportError\u001b[0m: HTTPSConnectionPool(host='oauth2.googleapis.com', port=443): Read timed out. (read timeout=120)"
     ]
    }
   ],
   "source": [
    "import requests\n",
    "import gspread\n",
    "from google.oauth2.service_account import Credentials\n",
    "import time\n",
    "\n",
    "# Define a function to fetch live cryptocurrency data\n",
    "def fetch_crypto_data():\n",
    "    url = \"https://api.coingecko.com/api/v3/coins/markets\"\n",
    "    params = {\n",
    "        \"vs_currency\": \"usd\",\n",
    "        \"order\": \"market_cap_desc\",\n",
    "        \"per_page\": 50,\n",
    "        \"page\": 1,\n",
    "    }\n",
    "    response = requests.get(url, params=params)\n",
    "    if response.status_code == 200:\n",
    "        return response.json()\n",
    "    else:\n",
    "        print(f\"Failed to fetch data: {response.status_code}\")\n",
    "        return []\n",
    "\n",
    "# Initialize Google Sheets credentials\n",
    "SCOPES = ['https://www.googleapis.com/auth/spreadsheets']\n",
    "credentials = Credentials.from_service_account_file('my-test-project-434516-b21932bb9234.json', scopes=SCOPES)\n",
    "gc = gspread.authorize(credentials)\n",
    "\n",
    "# Open the target Google Sheet\n",
    "sheet = gc.open_by_url('https://docs.google.com/spreadsheets/d/1yJlKex97GWe7hnmr6HC09MdfmbhqrUh_4TFThOEfHkc/edit#gid=0')\n",
    "worksheet = sheet.sheet1\n",
    "\n",
    "# Function to update Google Sheet with fetched data\n",
    "def update_sheet(data):\n",
    "    # Prepare header row\n",
    "    headers = [\"Rank\", \"Name\", \"Symbol\", \"Current Price (USD)\", \"Market Cap\", \"24h Change (%)\"]\n",
    "    rows = [headers]\n",
    "\n",
    "    # Prepare data rows\n",
    "    for i, coin in enumerate(data, start=1):\n",
    "        rows.append([\n",
    "            i,\n",
    "            coin.get(\"name\"),\n",
    "            coin.get(\"symbol\"),\n",
    "            coin.get(\"current_price\"),\n",
    "            coin.get(\"market_cap\"),\n",
    "            coin.get(\"price_change_percentage_24h\"),\n",
    "        ])\n",
    "\n",
    "    # Clear the sheet and update it with new data\n",
    "    worksheet.clear()\n",
    "    worksheet.update(\"A1\", rows)\n",
    "    print(\"Sheet updated successfully!\")\n",
    "\n",
    "# Continuous update loop\n",
    "try:\n",
    "    while True:\n",
    "        print(\"Fetching cryptocurrency data...\")\n",
    "        crypto_data = fetch_crypto_data()\n",
    "        if crypto_data:\n",
    "            update_sheet(crypto_data)\n",
    "        else:\n",
    "            print(\"No data fetched, retrying in 5 minutes...\")\n",
    "\n",
    "        # Wait for 5 minutes before the next update\n",
    "        time.sleep(300)\n",
    "except KeyboardInterrupt:\n",
    "    print(\"Stopped updating the sheet.\")\n"
   ]
  },
  {
   "cell_type": "code",
   "execution_count": null,
   "metadata": {},
   "outputs": [
    {
     "name": "stdout",
     "output_type": "stream",
     "text": [
      "Fetching cryptocurrency data...\n",
      "Failed to fetch data for page 6: 429\n"
     ]
    },
    {
     "name": "stderr",
     "output_type": "stream",
     "text": [
      "/var/folders/wg/8rqwg0nd7995t2tzgq40dsph0000gn/T/ipykernel_30477/2538238659.py:67: DeprecationWarning: The order of arguments in worksheet.update() has changed. Please pass values first and range_name secondor used named arguments (range_name=, values=)\n",
      "  worksheet.update(\"A1\", rows)\n"
     ]
    },
    {
     "name": "stdout",
     "output_type": "stream",
     "text": [
      "Sheet updated successfully with 250 cryptocurrencies!\n",
      "Fetching cryptocurrency data...\n",
      "Failed to fetch data for page 6: 429\n",
      "Sheet updated successfully with 250 cryptocurrencies!\n",
      "Fetching cryptocurrency data...\n",
      "Failed to fetch data for page 6: 429\n",
      "Sheet updated successfully with 250 cryptocurrencies!\n",
      "Fetching cryptocurrency data...\n",
      "Failed to fetch data for page 6: 429\n",
      "Sheet updated successfully with 250 cryptocurrencies!\n",
      "Fetching cryptocurrency data...\n",
      "Failed to fetch data for page 6: 429\n",
      "Sheet updated successfully with 250 cryptocurrencies!\n",
      "Fetching cryptocurrency data...\n",
      "Failed to fetch data for page 6: 429\n",
      "Sheet updated successfully with 250 cryptocurrencies!\n",
      "Fetching cryptocurrency data...\n",
      "Failed to fetch data for page 6: 429\n",
      "Sheet updated successfully with 250 cryptocurrencies!\n",
      "Fetching cryptocurrency data...\n",
      "Failed to fetch data for page 6: 429\n",
      "Sheet updated successfully with 250 cryptocurrencies!\n",
      "Fetching cryptocurrency data...\n",
      "Failed to fetch data for page 6: 429\n",
      "Sheet updated successfully with 250 cryptocurrencies!\n"
     ]
    }
   ],
   "source": [
    "import requests\n",
    "import gspread\n",
    "from google.oauth2.service_account import Credentials\n",
    "import time\n",
    "\n",
    "# Define a function to fetch live cryptocurrency data from all pages\n",
    "def fetch_all_crypto_data():\n",
    "    url = \"https://api.coingecko.com/api/v3/coins/markets\"\n",
    "    params = {\n",
    "        \"vs_currency\": \"usd\",\n",
    "        \"order\": \"market_cap_desc\",\n",
    "        \"per_page\": 50,  # Max items per page supported by the API\n",
    "        \"page\": 1,       # Start with the first page\n",
    "    }\n",
    "    all_data = []\n",
    "    \n",
    "    while True:\n",
    "        response = requests.get(url, params=params)\n",
    "        if response.status_code == 200:\n",
    "            page_data = response.json()\n",
    "            if not page_data:  # Exit the loop if no data is returned (end of pages)\n",
    "                break\n",
    "            all_data.extend(page_data)\n",
    "            params[\"page\"] += 1  # Go to the next page\n",
    "        else:\n",
    "            print(f\"Failed to fetch data for page {params['page']}: {response.status_code}\")\n",
    "            break\n",
    "    return all_data\n",
    "\n",
    "# Initialize Google Sheets credentials\n",
    "SCOPES = ['https://www.googleapis.com/auth/spreadsheets']\n",
    "credentials = Credentials.from_service_account_file('my-test-project-434516-b21932bb9234.json', scopes=SCOPES)\n",
    "gc = gspread.authorize(credentials)\n",
    "\n",
    "# Open the target Google Sheet\n",
    "sheet = gc.open_by_url('https://docs.google.com/spreadsheets/d/1yJlKex97GWe7hnmr6HC09MdfmbhqrUh_4TFThOEfHkc/edit#gid=0')\n",
    "worksheet = sheet.sheet1\n",
    "\n",
    "# Function to update Google Sheet with fetched data\n",
    "def update_sheet(data):\n",
    "    # Prepare header row\n",
    "    headers = [\n",
    "        \"Rank\", \n",
    "        \"Name\", \n",
    "        \"Symbol\", \n",
    "        \"Current Price (USD)\", \n",
    "        \"Market Cap\", \n",
    "        \"24h Change (%)\", \n",
    "        \"Price Change (24-hour, percentage)\"\n",
    "    ]\n",
    "    rows = [headers]\n",
    "\n",
    "    # Prepare data rows\n",
    "    for i, coin in enumerate(data, start=1):\n",
    "        rows.append([\n",
    "            i,  # Rank\n",
    "            coin.get(\"name\"),  # Name\n",
    "            coin.get(\"symbol\"),  # Symbol\n",
    "            coin.get(\"current_price\"),  # Current Price\n",
    "            coin.get(\"market_cap\"),  # Market Cap\n",
    "            coin.get(\"price_change_percentage_24h\"),  # 24h Change (%)\n",
    "            f\"{coin.get('price_change_percentage_24h', 0):.2f}%\"  # Price Change (formatted as percentage)\n",
    "        ])\n",
    "\n",
    "    # Clear the sheet and update it with new data\n",
    "    worksheet.clear()\n",
    "    worksheet.update(\"A1\", rows)\n",
    "    print(f\"Sheet updated successfully with {len(data)} cryptocurrencies!\")\n",
    "\n",
    "# Continuous update loop\n",
    "try:\n",
    "    while True:\n",
    "        print(\"Fetching cryptocurrency data...\")\n",
    "        crypto_data = fetch_all_crypto_data()\n",
    "        if crypto_data:\n",
    "            update_sheet(crypto_data)\n",
    "        else:\n",
    "            print(\"No data fetched, retrying in 5 minutes...\")\n",
    "\n",
    "        # Wait for 5 minutes before the next update\n",
    "        time.sleep(300)\n",
    "except KeyboardInterrupt:\n",
    "    print(\"Stopped updating the sheet.\")\n"
   ]
  },
  {
   "cell_type": "code",
   "execution_count": null,
   "metadata": {},
   "outputs": [],
   "source": []
  }
 ],
 "metadata": {
  "kernelspec": {
   "display_name": "venv",
   "language": "python",
   "name": "python3"
  },
  "language_info": {
   "codemirror_mode": {
    "name": "ipython",
    "version": 3
   },
   "file_extension": ".py",
   "mimetype": "text/x-python",
   "name": "python",
   "nbconvert_exporter": "python",
   "pygments_lexer": "ipython3",
   "version": "3.10.15"
  }
 },
 "nbformat": 4,
 "nbformat_minor": 2
}
